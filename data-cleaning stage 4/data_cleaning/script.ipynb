{
 "cells": [
  {
   "cell_type": "code",
   "execution_count": 1,
   "metadata": {},
   "outputs": [],
   "source": [
    "# import dependencies\n",
    "import pandas as pd\n",
    "import numpy as np\n",
    "import re"
   ]
  },
  {
   "cell_type": "code",
   "execution_count": 2,
   "metadata": {},
   "outputs": [],
   "source": [
    "# read the file\n",
    "df=pd.read_csv('movies.csv')"
   ]
  },
  {
   "cell_type": "code",
   "execution_count": 3,
   "metadata": {},
   "outputs": [
    {
     "data": {
      "text/html": [
       "<div>\n",
       "<style scoped>\n",
       "    .dataframe tbody tr th:only-of-type {\n",
       "        vertical-align: middle;\n",
       "    }\n",
       "\n",
       "    .dataframe tbody tr th {\n",
       "        vertical-align: top;\n",
       "    }\n",
       "\n",
       "    .dataframe thead th {\n",
       "        text-align: right;\n",
       "    }\n",
       "</style>\n",
       "<table border=\"1\" class=\"dataframe\">\n",
       "  <thead>\n",
       "    <tr style=\"text-align: right;\">\n",
       "      <th></th>\n",
       "      <th>MOVIES</th>\n",
       "      <th>YEAR</th>\n",
       "      <th>GENRE</th>\n",
       "      <th>RATING</th>\n",
       "      <th>ONE-LINE</th>\n",
       "      <th>STARS</th>\n",
       "      <th>VOTES</th>\n",
       "      <th>RunTime</th>\n",
       "      <th>Gross</th>\n",
       "    </tr>\n",
       "  </thead>\n",
       "  <tbody>\n",
       "    <tr>\n",
       "      <th>5485</th>\n",
       "      <td>Kleo</td>\n",
       "      <td>NaN</td>\n",
       "      <td>\\nThriller</td>\n",
       "      <td>NaN</td>\n",
       "      <td>\\nThe GDR spy Kleo (Jella Haase) killed a busi...</td>\n",
       "      <td>\\n            \\n    Stars:\\nJella Haase, \\nVla...</td>\n",
       "      <td>NaN</td>\n",
       "      <td>NaN</td>\n",
       "      <td>NaN</td>\n",
       "    </tr>\n",
       "    <tr>\n",
       "      <th>3578</th>\n",
       "      <td>Pitta Kathalu</td>\n",
       "      <td>(2021)</td>\n",
       "      <td>\\nDrama, Romance</td>\n",
       "      <td>5.0</td>\n",
       "      <td>\\nFour different women, four journeys of love ...</td>\n",
       "      <td>\\n    Directors:\\nNag Ashwin, \\nTharun Bhascke...</td>\n",
       "      <td>647</td>\n",
       "      <td>150.0</td>\n",
       "      <td>NaN</td>\n",
       "    </tr>\n",
       "  </tbody>\n",
       "</table>\n",
       "</div>"
      ],
      "text/plain": [
       "             MOVIES    YEAR                         GENRE  RATING  \\\n",
       "5485           Kleo     NaN        \\nThriller                 NaN   \n",
       "3578  Pitta Kathalu  (2021)  \\nDrama, Romance                 5.0   \n",
       "\n",
       "                                               ONE-LINE  \\\n",
       "5485  \\nThe GDR spy Kleo (Jella Haase) killed a busi...   \n",
       "3578  \\nFour different women, four journeys of love ...   \n",
       "\n",
       "                                                  STARS VOTES  RunTime Gross  \n",
       "5485  \\n            \\n    Stars:\\nJella Haase, \\nVla...   NaN      NaN   NaN  \n",
       "3578  \\n    Directors:\\nNag Ashwin, \\nTharun Bhascke...   647    150.0   NaN  "
      ]
     },
     "execution_count": 3,
     "metadata": {},
     "output_type": "execute_result"
    }
   ],
   "source": [
    "# sample of the file\n",
    "df.sample(2)"
   ]
  },
  {
   "cell_type": "code",
   "execution_count": 4,
   "metadata": {},
   "outputs": [],
   "source": [
    "# change the column names to lower case\n",
    "df.columns = df.columns.str.lower()"
   ]
  },
  {
   "cell_type": "code",
   "execution_count": 5,
   "metadata": {},
   "outputs": [
    {
     "name": "stdout",
     "output_type": "stream",
     "text": [
      "<class 'pandas.core.frame.DataFrame'>\n",
      "RangeIndex: 9999 entries, 0 to 9998\n",
      "Data columns (total 9 columns):\n",
      " #   Column    Non-Null Count  Dtype  \n",
      "---  ------    --------------  -----  \n",
      " 0   movies    9999 non-null   object \n",
      " 1   year      9355 non-null   object \n",
      " 2   genre     9919 non-null   object \n",
      " 3   rating    8179 non-null   float64\n",
      " 4   one-line  9999 non-null   object \n",
      " 5   stars     9999 non-null   object \n",
      " 6   votes     8179 non-null   object \n",
      " 7   runtime   7041 non-null   float64\n",
      " 8   gross     460 non-null    object \n",
      "dtypes: float64(2), object(7)\n",
      "memory usage: 703.2+ KB\n"
     ]
    }
   ],
   "source": [
    "# check the column names and datatype\n",
    "df.info()"
   ]
  },
  {
   "attachments": {},
   "cell_type": "markdown",
   "metadata": {},
   "source": [
    "Drop duplicates by the movies column"
   ]
  },
  {
   "cell_type": "code",
   "execution_count": 6,
   "metadata": {},
   "outputs": [
    {
     "data": {
      "text/plain": [
       "False    9568\n",
       "True      431\n",
       "dtype: int64"
      ]
     },
     "execution_count": 6,
     "metadata": {},
     "output_type": "execute_result"
    }
   ],
   "source": [
    "# check for duplicates\n",
    "df.duplicated().value_counts()"
   ]
  },
  {
   "cell_type": "code",
   "execution_count": 7,
   "metadata": {},
   "outputs": [
    {
     "name": "stdout",
     "output_type": "stream",
     "text": [
      "4.5% of the data is duplicated on the 'movie' column\n"
     ]
    }
   ],
   "source": [
    "duplicated_perc = df.duplicated().value_counts()[1]/df.duplicated().value_counts()[0]*100\n",
    "print(f\"{round(duplicated_perc, 2)}% of the data is duplicated on the 'movie' column\")"
   ]
  },
  {
   "cell_type": "code",
   "execution_count": 8,
   "metadata": {},
   "outputs": [],
   "source": [
    "# drop duplicates and reset the index\n",
    "df = df.drop_duplicates(subset='movies', keep=\"first\").reset_index(drop=True)"
   ]
  },
  {
   "cell_type": "code",
   "execution_count": 9,
   "metadata": {},
   "outputs": [
    {
     "data": {
      "text/plain": [
       "False    6817\n",
       "dtype: int64"
      ]
     },
     "execution_count": 9,
     "metadata": {},
     "output_type": "execute_result"
    }
   ],
   "source": [
    "# check for duplicates\n",
    "df.duplicated().value_counts()"
   ]
  },
  {
   "attachments": {},
   "cell_type": "markdown",
   "metadata": {},
   "source": [
    "Cleaning the year column. I would extract the first four numeric values as the year "
   ]
  },
  {
   "cell_type": "code",
   "execution_count": 10,
   "metadata": {},
   "outputs": [
    {
     "data": {
      "text/plain": [
       "Index(['(2020)', '(2019)', '(2018)', '(2017)', '(2020– )', '(2016)', '(2021)',\n",
       "       '(2021– )', '(2019– )', '(2018– )', '(2015)', '(2014)', '(2013)',\n",
       "       '(2012)', '(2017– )', '(2017 TV Special)', '(2011)', '(2016– )',\n",
       "       '(2010)', '(2020 TV Special)'],\n",
       "      dtype='object')"
      ]
     },
     "execution_count": 10,
     "metadata": {},
     "output_type": "execute_result"
    }
   ],
   "source": [
    "# ger a sample of the year column\n",
    "df.year.value_counts().index[:20]"
   ]
  },
  {
   "cell_type": "code",
   "execution_count": 11,
   "metadata": {},
   "outputs": [],
   "source": [
    "# extract the first four numeric characters as the year \n",
    "df['year'] = df['year'].str.extract(r'(\\d{4})')"
   ]
  },
  {
   "cell_type": "code",
   "execution_count": 12,
   "metadata": {},
   "outputs": [],
   "source": [
    "# convert the year column to integer\n",
    "df['year'] = df['year'].astype('Int64')"
   ]
  },
  {
   "cell_type": "code",
   "execution_count": 13,
   "metadata": {},
   "outputs": [
    {
     "data": {
      "text/plain": [
       "Int64Dtype()"
      ]
     },
     "execution_count": 13,
     "metadata": {},
     "output_type": "execute_result"
    }
   ],
   "source": [
    "# check the datatype\n",
    "df.year.dtype"
   ]
  },
  {
   "attachments": {},
   "cell_type": "markdown",
   "metadata": {},
   "source": [
    "Cleaning the Genre column - extract only the first genre"
   ]
  },
  {
   "cell_type": "code",
   "execution_count": 14,
   "metadata": {},
   "outputs": [
    {
     "data": {
      "text/plain": [
       "Index(['\\nComedy            ', '\\nDrama            ',\n",
       "       '\\nDocumentary            ',\n",
       "       '\\nAnimation, Action, Adventure            ',\n",
       "       '\\nComedy, Drama            ', '\\nDrama, Romance            ',\n",
       "       '\\nComedy, Drama, Romance            ',\n",
       "       '\\nAction, Crime, Drama            ',\n",
       "       '\\nAnimation, Adventure, Comedy            ',\n",
       "       '\\nCrime, Drama, Mystery            ', '\\nComedy, Romance            ',\n",
       "       '\\nReality-TV            ', '\\nAction, Adventure, Drama            ',\n",
       "       '\\nCrime, Drama, Thriller            ', '\\nDrama, Thriller            ',\n",
       "       '\\nDocumentary, Comedy            ', '\\nDocumentary, Crime            ',\n",
       "       '\\nThriller            ', '\\nAction, Crime, Thriller            ',\n",
       "       '\\nCrime, Drama            '],\n",
       "      dtype='object')"
      ]
     },
     "execution_count": 14,
     "metadata": {},
     "output_type": "execute_result"
    }
   ],
   "source": [
    "# view a sample of the genre column\n",
    "df.genre.value_counts()[:20].index"
   ]
  },
  {
   "cell_type": "code",
   "execution_count": 15,
   "metadata": {},
   "outputs": [],
   "source": [
    "# extract the first genre \n",
    "df['genre'] = df['genre'].str.split(',').str[0].str.strip()\n"
   ]
  },
  {
   "cell_type": "code",
   "execution_count": 16,
   "metadata": {},
   "outputs": [
    {
     "data": {
      "text/plain": [
       "Comedy         1491\n",
       "Drama          1164\n",
       "Documentary    1002\n",
       "Animation       917\n",
       "Action          821\n",
       "Crime           394\n",
       "Adventure       152\n",
       "Horror          149\n",
       "Biography       141\n",
       "Reality-TV      133\n",
       "Short            66\n",
       "Thriller         65\n",
       "Family           52\n",
       "Romance          37\n",
       "Game-Show        31\n",
       "Fantasy          30\n",
       "Mystery          22\n",
       "Music            19\n",
       "Sci-Fi           18\n",
       "Talk-Show        17\n",
       "Sport             6\n",
       "Western           6\n",
       "News              5\n",
       "Musical           4\n",
       "History           2\n",
       "Film-Noir         1\n",
       "War               1\n",
       "Name: genre, dtype: int64"
      ]
     },
     "execution_count": 16,
     "metadata": {},
     "output_type": "execute_result"
    }
   ],
   "source": [
    "# check the values\n",
    "df.genre.value_counts()"
   ]
  },
  {
   "attachments": {},
   "cell_type": "markdown",
   "metadata": {},
   "source": [
    "Cleaning the ratings column"
   ]
  },
  {
   "cell_type": "code",
   "execution_count": 17,
   "metadata": {},
   "outputs": [
    {
     "data": {
      "text/plain": [
       "Float64Index([7.2, 7.1, 7.3, 6.6, 6.5, 7.5, 6.8, 6.7, 7.6, 7.4, 7.0, 6.9, 6.3,\n",
       "              6.4, 6.2, 7.7, 7.8, 6.1, 5.8, 7.9, 5.9, 6.0, 8.2, 5.7, 8.1, 5.6,\n",
       "              8.0, 5.5, 8.3, 5.4, 8.4, 5.2, 5.3, 4.8, 8.5, 5.0, 8.6, 4.9, 5.1,\n",
       "              4.4, 4.7, 4.6, 4.5, 8.7, 4.3, 8.8, 4.1, 4.2, 3.8, 3.6, 3.5, 3.7,\n",
       "              3.9, 4.0, 3.2, 3.3, 9.1, 8.9, 3.4, 3.1, 9.0, 2.5, 2.7, 2.8, 9.2,\n",
       "              2.9, 2.6, 3.0, 2.1, 9.3, 9.4, 2.3, 2.2, 1.1, 2.0, 2.4, 1.8],\n",
       "             dtype='float64')"
      ]
     },
     "execution_count": 17,
     "metadata": {},
     "output_type": "execute_result"
    }
   ],
   "source": [
    "# check the values\n",
    "df.rating.value_counts().index"
   ]
  },
  {
   "attachments": {},
   "cell_type": "markdown",
   "metadata": {},
   "source": [
    "The ratings column appear to be clean. All values are between 0 and 10. Considering that it is average ratings, the decimals are allowed."
   ]
  },
  {
   "attachments": {},
   "cell_type": "markdown",
   "metadata": {},
   "source": [
    "Cleaning the one-line column"
   ]
  },
  {
   "cell_type": "code",
   "execution_count": 18,
   "metadata": {},
   "outputs": [
    {
     "data": {
      "text/plain": [
       "1945    \\nSince his rise to power, Mathayus' kingdom h...\n",
       "5084    \\nWho says the world works the way grown ups t...\n",
       "5249    \\nIn a far away forgotten valley, heaped with ...\n",
       "Name: one-line, dtype: object"
      ]
     },
     "execution_count": 18,
     "metadata": {},
     "output_type": "execute_result"
    }
   ],
   "source": [
    "# check the values\n",
    "df['one-line'].sample(3)"
   ]
  },
  {
   "cell_type": "code",
   "execution_count": 19,
   "metadata": {},
   "outputs": [],
   "source": [
    "# replace the \\n character with a space\n",
    "df['one-line'] = df['one-line'].str.replace('\\n', '')"
   ]
  },
  {
   "cell_type": "code",
   "execution_count": 20,
   "metadata": {},
   "outputs": [
    {
     "data": {
      "text/plain": [
       "1982    Some of Britain's most skilled restoration exp...\n",
       "1487    Ramón Alvia is a professional boxer who, altho...\n",
       "Name: one-line, dtype: object"
      ]
     },
     "execution_count": 20,
     "metadata": {},
     "output_type": "execute_result"
    }
   ],
   "source": [
    "# check a sample of the column\n",
    "df['one-line'].sample(2)"
   ]
  },
  {
   "attachments": {},
   "cell_type": "markdown",
   "metadata": {},
   "source": [
    "Cleaning the stars column"
   ]
  },
  {
   "cell_type": "code",
   "execution_count": 21,
   "metadata": {},
   "outputs": [
    {
     "data": {
      "text/plain": [
       "0       \\n    Director:\\nPeter Thorwarth\\n| \\n    Star...\n",
       "1       \\n            \\n    Stars:\\nChris Wood, \\nSara...\n",
       "2       \\n            \\n    Stars:\\nAndrew Lincoln, \\n...\n",
       "3       \\n            \\n    Stars:\\nJustin Roiland, \\n...\n",
       "4       \\n    Director:\\nMatthias Schweighöfer\\n| \\n  ...\n",
       "                              ...                        \n",
       "6812    \\n            \\n    Stars:\\nMorgan Taylor Camp...\n",
       "6813    \\n    Director:\\nTima Shomali\\n| \\n    Stars:\\...\n",
       "6814    \\n    Director:\\nNicolai Rohde\\n| \\n    Stars:...\n",
       "6815                                                   \\n\n",
       "6816    \\n    Director:\\nOrlando von Einsiedel\\n| \\n  ...\n",
       "Name: stars, Length: 6817, dtype: object"
      ]
     },
     "execution_count": 21,
     "metadata": {},
     "output_type": "execute_result"
    }
   ],
   "source": [
    "# check the initial values\n",
    "df.stars"
   ]
  },
  {
   "cell_type": "code",
   "execution_count": 22,
   "metadata": {},
   "outputs": [],
   "source": [
    "# replace the \\n character with a space\n",
    "df['stars'] = df['stars'].str.replace('\\n', '')\n",
    "\n",
    "# strip the leading and trailing spaces\n",
    "df['stars'] = df['stars'].str.strip()\n",
    "\n",
    "\n",
    "# separate the director and stars\n",
    "# Director:(.*?)\\| captures the text after \"Director:\" and before the \"|\" symbol\n",
    "df['director'] = df['stars'].str.extract(r'Director:(.*?)\\|', flags=re.IGNORECASE)[0].str.strip()\n",
    "\n",
    "#Stars:(.*) captures the text after \"Stars:\" as the stars information.\n",
    "df['stars'] = df['stars'].str.extract(r'Stars:(.*)', flags=re.IGNORECASE)[0].str.strip()"
   ]
  },
  {
   "attachments": {},
   "cell_type": "markdown",
   "metadata": {},
   "source": [
    "Cleaning the Votes column"
   ]
  },
  {
   "cell_type": "code",
   "execution_count": 23,
   "metadata": {},
   "outputs": [
    {
     "data": {
      "text/plain": [
       "0        21,062\n",
       "1        17,870\n",
       "2       885,805\n",
       "3       414,849\n",
       "4           NaN\n",
       "         ...   \n",
       "6812        NaN\n",
       "6813        NaN\n",
       "6814        NaN\n",
       "6815        NaN\n",
       "6816        NaN\n",
       "Name: votes, Length: 6817, dtype: object"
      ]
     },
     "execution_count": 23,
     "metadata": {},
     "output_type": "execute_result"
    }
   ],
   "source": [
    "df.votes"
   ]
  },
  {
   "cell_type": "code",
   "execution_count": 24,
   "metadata": {},
   "outputs": [],
   "source": [
    "# remove comma and convert to integer\n",
    "df['votes'] = df['votes'].str.replace(',', '').astype('Int64')"
   ]
  },
  {
   "cell_type": "code",
   "execution_count": 25,
   "metadata": {},
   "outputs": [
    {
     "data": {
      "text/plain": [
       "0        21062\n",
       "1        17870\n",
       "2       885805\n",
       "3       414849\n",
       "4         <NA>\n",
       "         ...  \n",
       "6812      <NA>\n",
       "6813      <NA>\n",
       "6814      <NA>\n",
       "6815      <NA>\n",
       "6816      <NA>\n",
       "Name: votes, Length: 6817, dtype: Int64"
      ]
     },
     "execution_count": 25,
     "metadata": {},
     "output_type": "execute_result"
    }
   ],
   "source": [
    "# check the values\n",
    "df.votes"
   ]
  },
  {
   "cell_type": "code",
   "execution_count": 26,
   "metadata": {},
   "outputs": [
    {
     "data": {
      "text/plain": [
       "Int64Dtype()"
      ]
     },
     "execution_count": 26,
     "metadata": {},
     "output_type": "execute_result"
    }
   ],
   "source": [
    "# check the datatype\n",
    "df.votes.dtype"
   ]
  },
  {
   "attachments": {},
   "cell_type": "markdown",
   "metadata": {},
   "source": [
    "Cleaning the runtime column. "
   ]
  },
  {
   "cell_type": "code",
   "execution_count": 27,
   "metadata": {},
   "outputs": [
    {
     "data": {
      "text/plain": [
       "60.0     279\n",
       "30.0     186\n",
       "90.0     165\n",
       "24.0     157\n",
       "45.0     128\n",
       "        ... \n",
       "12.0      12\n",
       "135.0     12\n",
       "15.0      12\n",
       "32.0      11\n",
       "10.0      10\n",
       "Name: runtime, Length: 114, dtype: int64"
      ]
     },
     "execution_count": 27,
     "metadata": {},
     "output_type": "execute_result"
    }
   ],
   "source": [
    "# check the initial values\n",
    "df.runtime.value_counts()[:10]"
   ]
  },
  {
   "cell_type": "code",
   "execution_count": 28,
   "metadata": {},
   "outputs": [],
   "source": [
    "# convert the runtime to an integer\n",
    "df['runtime'] = df['runtime'].astype('Int64')"
   ]
  },
  {
   "cell_type": "code",
   "execution_count": 29,
   "metadata": {},
   "outputs": [
    {
     "data": {
      "text/plain": [
       "60     279\n",
       "30     186\n",
       "90     165\n",
       "24     157\n",
       "45     128\n",
       "23      99\n",
       "50      94\n",
       "100     89\n",
       "95      89\n",
       "25      87\n",
       "Name: runtime, dtype: Int64"
      ]
     },
     "execution_count": 29,
     "metadata": {},
     "output_type": "execute_result"
    }
   ],
   "source": [
    "# check the values\n",
    "df.runtime.value_counts()[:10]"
   ]
  },
  {
   "attachments": {},
   "cell_type": "markdown",
   "metadata": {},
   "source": [
    "Cleaning the gross column"
   ]
  },
  {
   "cell_type": "code",
   "execution_count": 30,
   "metadata": {},
   "outputs": [
    {
     "data": {
      "text/plain": [
       "Index(['$0.01M', '$0.02M', '$0.00M', '$0.03M', '$0.04M', '$0.08M', '$0.05M',\n",
       "       '$0.10M', '$0.15M', '$0.09M',\n",
       "       ...\n",
       "       '$181.17M', '$77.22M', '$18.34M', '$97.10M', '$486.30M', '$37.77M',\n",
       "       '$44.82M', '$21.36M', '$54.76M', '$10.40M'],\n",
       "      dtype='object', length=328)"
      ]
     },
     "execution_count": 30,
     "metadata": {},
     "output_type": "execute_result"
    }
   ],
   "source": [
    "# check the initial values\n",
    "df.gross.value_counts().index"
   ]
  },
  {
   "cell_type": "code",
   "execution_count": 31,
   "metadata": {},
   "outputs": [],
   "source": [
    "# remove '$' and 'M', and convert to million\n",
    "df['gross'] = df['gross'].str.replace('$', '', regex=True)\\\n",
    "                        .str.replace('M', '', regex=True)\\\n",
    "                        .astype(float)\\\n",
    "                        .mul(1e6)"
   ]
  },
  {
   "cell_type": "code",
   "execution_count": 32,
   "metadata": {},
   "outputs": [
    {
     "data": {
      "text/plain": [
       "Float64Index([    10000.0,     20000.0,         0.0,     30000.0,     40000.0,\n",
       "                  80000.0,     50000.0,    100000.0,    150000.0,     90000.0,\n",
       "              ...\n",
       "              181170000.0,  77220000.0,  18340000.0,  97100000.0, 486300000.0,\n",
       "               37770000.0,  44820000.0,  21360000.0,  54760000.0,  10400000.0],\n",
       "             dtype='float64', length=328)"
      ]
     },
     "execution_count": 32,
     "metadata": {},
     "output_type": "execute_result"
    }
   ],
   "source": [
    "# check the values\n",
    "df.gross.value_counts().index"
   ]
  },
  {
   "attachments": {},
   "cell_type": "markdown",
   "metadata": {},
   "source": [
    "Save the cleaned data"
   ]
  },
  {
   "cell_type": "code",
   "execution_count": 33,
   "metadata": {},
   "outputs": [
    {
     "data": {
      "text/html": [
       "<div>\n",
       "<style scoped>\n",
       "    .dataframe tbody tr th:only-of-type {\n",
       "        vertical-align: middle;\n",
       "    }\n",
       "\n",
       "    .dataframe tbody tr th {\n",
       "        vertical-align: top;\n",
       "    }\n",
       "\n",
       "    .dataframe thead th {\n",
       "        text-align: right;\n",
       "    }\n",
       "</style>\n",
       "<table border=\"1\" class=\"dataframe\">\n",
       "  <thead>\n",
       "    <tr style=\"text-align: right;\">\n",
       "      <th></th>\n",
       "      <th>movies</th>\n",
       "      <th>year</th>\n",
       "      <th>genre</th>\n",
       "      <th>rating</th>\n",
       "      <th>one-line</th>\n",
       "      <th>stars</th>\n",
       "      <th>votes</th>\n",
       "      <th>runtime</th>\n",
       "      <th>gross</th>\n",
       "      <th>director</th>\n",
       "    </tr>\n",
       "  </thead>\n",
       "  <tbody>\n",
       "    <tr>\n",
       "      <th>719</th>\n",
       "      <td>I Am Mother</td>\n",
       "      <td>2019</td>\n",
       "      <td>Drama</td>\n",
       "      <td>6.7</td>\n",
       "      <td>In the wake of humanity's extinction, a teenag...</td>\n",
       "      <td>Luke Hawker, Rose Byrne, Maddie Lenton, Hazel ...</td>\n",
       "      <td>81421</td>\n",
       "      <td>113</td>\n",
       "      <td>NaN</td>\n",
       "      <td>Grant Sputore</td>\n",
       "    </tr>\n",
       "    <tr>\n",
       "      <th>4369</th>\n",
       "      <td>Alien TV</td>\n",
       "      <td>2020</td>\n",
       "      <td>Animation</td>\n",
       "      <td>6.2</td>\n",
       "      <td>Alien reporters Ixbee, Pixbee and Squee travel...</td>\n",
       "      <td>John Cleland, Rupert Degas, Kyle Dooley, Julie...</td>\n",
       "      <td>228</td>\n",
       "      <td>&lt;NA&gt;</td>\n",
       "      <td>NaN</td>\n",
       "      <td>NaN</td>\n",
       "    </tr>\n",
       "    <tr>\n",
       "      <th>4513</th>\n",
       "      <td>The Magic School Bus Rides Again in the Zone</td>\n",
       "      <td>2020</td>\n",
       "      <td>Animation</td>\n",
       "      <td>5.6</td>\n",
       "      <td>Ms. Frizzle's class sees every show on a pop s...</td>\n",
       "      <td>Kate McKinnon, Birva Pandya, Mikaela Blake, Ga...</td>\n",
       "      <td>41</td>\n",
       "      <td>46</td>\n",
       "      <td>NaN</td>\n",
       "      <td>Richard Weston</td>\n",
       "    </tr>\n",
       "    <tr>\n",
       "      <th>1876</th>\n",
       "      <td>Cat People</td>\n",
       "      <td>2021</td>\n",
       "      <td>Documentary</td>\n",
       "      <td>6.2</td>\n",
       "      <td>CAT PEOPLE tells the stories of some of the mo...</td>\n",
       "      <td>NaN</td>\n",
       "      <td>152</td>\n",
       "      <td>&lt;NA&gt;</td>\n",
       "      <td>NaN</td>\n",
       "      <td>NaN</td>\n",
       "    </tr>\n",
       "    <tr>\n",
       "      <th>3039</th>\n",
       "      <td>Stranded in Paradise</td>\n",
       "      <td>2014</td>\n",
       "      <td>Comedy</td>\n",
       "      <td>5.5</td>\n",
       "      <td>When a driven HR exec loses her high-powered j...</td>\n",
       "      <td>Vanessa Marcil, James Denton, Cindy Pickett, G...</td>\n",
       "      <td>1573</td>\n",
       "      <td>86</td>\n",
       "      <td>NaN</td>\n",
       "      <td>Bert Kish</td>\n",
       "    </tr>\n",
       "    <tr>\n",
       "      <th>4885</th>\n",
       "      <td>Gek van geluk</td>\n",
       "      <td>2017</td>\n",
       "      <td>Comedy</td>\n",
       "      <td>5.4</td>\n",
       "      <td>In 'Gek van Geluk', Plien van Bennekom steps i...</td>\n",
       "      <td>Plien van Bennekom, Matteo van der Grijn, Carl...</td>\n",
       "      <td>341</td>\n",
       "      <td>106</td>\n",
       "      <td>NaN</td>\n",
       "      <td>Johan Nijenhuis</td>\n",
       "    </tr>\n",
       "    <tr>\n",
       "      <th>4349</th>\n",
       "      <td>Film Kteer Kbeer</td>\n",
       "      <td>2015</td>\n",
       "      <td>Action</td>\n",
       "      <td>7.1</td>\n",
       "      <td>Intending to smuggle drugs across the borders,...</td>\n",
       "      <td>Alain Saadeh, Fouad Yammine, Wissam Fares, Tar...</td>\n",
       "      <td>1346</td>\n",
       "      <td>107</td>\n",
       "      <td>NaN</td>\n",
       "      <td>Mir-Jean Bou Chaaya</td>\n",
       "    </tr>\n",
       "    <tr>\n",
       "      <th>96</th>\n",
       "      <td>The Ice Road</td>\n",
       "      <td>2021</td>\n",
       "      <td>Action</td>\n",
       "      <td>5.6</td>\n",
       "      <td>After a remote diamond mine collapses in far n...</td>\n",
       "      <td>Liam Neeson, Marcus Thomas, Laurence Fishburne...</td>\n",
       "      <td>20561</td>\n",
       "      <td>109</td>\n",
       "      <td>NaN</td>\n",
       "      <td>Jonathan Hensleigh</td>\n",
       "    </tr>\n",
       "    <tr>\n",
       "      <th>1715</th>\n",
       "      <td>El fotógrafo de Mauthausen</td>\n",
       "      <td>2018</td>\n",
       "      <td>Biography</td>\n",
       "      <td>6.8</td>\n",
       "      <td>Based on real events, Francesc Boix is a Spani...</td>\n",
       "      <td>Mario Casas, Richard van Weyden, Alain Hernánd...</td>\n",
       "      <td>9308</td>\n",
       "      <td>110</td>\n",
       "      <td>NaN</td>\n",
       "      <td>Mar Targarona</td>\n",
       "    </tr>\n",
       "    <tr>\n",
       "      <th>6131</th>\n",
       "      <td>Willie Barcena: The Truth Hurts</td>\n",
       "      <td>2016</td>\n",
       "      <td>Comedy</td>\n",
       "      <td>6.3</td>\n",
       "      <td>Performing live in El Paso, Texas, veteran com...</td>\n",
       "      <td>NaN</td>\n",
       "      <td>77</td>\n",
       "      <td>60</td>\n",
       "      <td>NaN</td>\n",
       "      <td>NaN</td>\n",
       "    </tr>\n",
       "  </tbody>\n",
       "</table>\n",
       "</div>"
      ],
      "text/plain": [
       "                                            movies  year        genre  rating  \\\n",
       "719                                    I Am Mother  2019        Drama     6.7   \n",
       "4369                                      Alien TV  2020    Animation     6.2   \n",
       "4513  The Magic School Bus Rides Again in the Zone  2020    Animation     5.6   \n",
       "1876                                    Cat People  2021  Documentary     6.2   \n",
       "3039                          Stranded in Paradise  2014       Comedy     5.5   \n",
       "4885                                 Gek van geluk  2017       Comedy     5.4   \n",
       "4349                              Film Kteer Kbeer  2015       Action     7.1   \n",
       "96                                    The Ice Road  2021       Action     5.6   \n",
       "1715                    El fotógrafo de Mauthausen  2018    Biography     6.8   \n",
       "6131               Willie Barcena: The Truth Hurts  2016       Comedy     6.3   \n",
       "\n",
       "                                               one-line  \\\n",
       "719   In the wake of humanity's extinction, a teenag...   \n",
       "4369  Alien reporters Ixbee, Pixbee and Squee travel...   \n",
       "4513  Ms. Frizzle's class sees every show on a pop s...   \n",
       "1876  CAT PEOPLE tells the stories of some of the mo...   \n",
       "3039  When a driven HR exec loses her high-powered j...   \n",
       "4885  In 'Gek van Geluk', Plien van Bennekom steps i...   \n",
       "4349  Intending to smuggle drugs across the borders,...   \n",
       "96    After a remote diamond mine collapses in far n...   \n",
       "1715  Based on real events, Francesc Boix is a Spani...   \n",
       "6131  Performing live in El Paso, Texas, veteran com...   \n",
       "\n",
       "                                                  stars  votes  runtime  \\\n",
       "719   Luke Hawker, Rose Byrne, Maddie Lenton, Hazel ...  81421      113   \n",
       "4369  John Cleland, Rupert Degas, Kyle Dooley, Julie...    228     <NA>   \n",
       "4513  Kate McKinnon, Birva Pandya, Mikaela Blake, Ga...     41       46   \n",
       "1876                                                NaN    152     <NA>   \n",
       "3039  Vanessa Marcil, James Denton, Cindy Pickett, G...   1573       86   \n",
       "4885  Plien van Bennekom, Matteo van der Grijn, Carl...    341      106   \n",
       "4349  Alain Saadeh, Fouad Yammine, Wissam Fares, Tar...   1346      107   \n",
       "96    Liam Neeson, Marcus Thomas, Laurence Fishburne...  20561      109   \n",
       "1715  Mario Casas, Richard van Weyden, Alain Hernánd...   9308      110   \n",
       "6131                                                NaN     77       60   \n",
       "\n",
       "      gross             director  \n",
       "719     NaN        Grant Sputore  \n",
       "4369    NaN                  NaN  \n",
       "4513    NaN       Richard Weston  \n",
       "1876    NaN                  NaN  \n",
       "3039    NaN            Bert Kish  \n",
       "4885    NaN      Johan Nijenhuis  \n",
       "4349    NaN  Mir-Jean Bou Chaaya  \n",
       "96      NaN   Jonathan Hensleigh  \n",
       "1715    NaN        Mar Targarona  \n",
       "6131    NaN                  NaN  "
      ]
     },
     "execution_count": 33,
     "metadata": {},
     "output_type": "execute_result"
    }
   ],
   "source": [
    "# view a sample of the data\n",
    "df.sample(10)"
   ]
  },
  {
   "cell_type": "code",
   "execution_count": 34,
   "metadata": {},
   "outputs": [],
   "source": [
    "# export the data to csv file\n",
    "df.to_csv('movies_cleaned.csv', index=False)"
   ]
  }
 ],
 "metadata": {
  "kernelspec": {
   "display_name": "base",
   "language": "python",
   "name": "python3"
  },
  "language_info": {
   "codemirror_mode": {
    "name": "ipython",
    "version": 3
   },
   "file_extension": ".py",
   "mimetype": "text/x-python",
   "name": "python",
   "nbconvert_exporter": "python",
   "pygments_lexer": "ipython3",
   "version": "3.9.12"
  },
  "orig_nbformat": 4
 },
 "nbformat": 4,
 "nbformat_minor": 2
}
