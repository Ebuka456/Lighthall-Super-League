{
 "cells": [
  {
   "cell_type": "markdown",
   "id": "6fda3dbd",
   "metadata": {},
   "source": [
    "# It's Movie Time (Data Cleaning Case Study)"
   ]
  },
  {
   "cell_type": "markdown",
   "id": "b4fb4665",
   "metadata": {},
   "source": [
    "<img src=\"movie_time2.jpg\" height=\"300px\" width=\"700px\"/>"
   ]
  },
  {
   "cell_type": "markdown",
   "id": "a6ab1acc",
   "metadata": {},
   "source": [
    "#### Lights! Camera! Data!\n",
    "\n",
    "Once upon a time in the enchanting world of cinema, there existed a vast dataset, shrouded in darkness and plagued by dirtiness. This dataset, a treasure trove of information about movies from different genres, held the potential to reveal hidden insights, understand audience preferences, and unlock the secret formula for cinematic success. \n",
    "\n",
    "\n",
    "The dataset was a hot mess, tangled like a twisted plotline. Missing titles, jumbled genres, sneaky duplicates were lurking at every turn and many more catastrophe.\n",
    "\n",
    "How do they make sense of this? With a data filled with so many insights to make powerful decisions but alas, it was trapped in a state of chaos and disorder, crying out for the intervention of a skilled data wizards.\n",
    "\n",
    "My team and I (Team 13) happened to pass this enchanting world along one of our Analytic Journeys and we heard the cry.... Not of the people, but of the data.\n",
    "\n",
    "Do you want to hear what the cry sounds like?.... it only said \"Help\", what a boring a cry :)\n",
    "\n",
    "We vouched to help this data, to help this enchanting world and we did it with our trusty magic tool which isnt \"Abrakadabra\"... our magic tool is **Python**"
   ]
  },
  {
   "cell_type": "markdown",
   "id": "4138f3e6",
   "metadata": {},
   "source": [
    "#### Let's Begin\n",
    "\n",
    "To start this magical quest, we need to call upon the spirits to guide us and be with us on this Journey. The spirits are our **python Libraries**, for each spirit we call upon gives us the power to clean parts of this dataset "
   ]
  },
  {
   "cell_type": "code",
   "execution_count": 180,
   "id": "3ab15bb9",
   "metadata": {},
   "outputs": [],
   "source": [
    "# import libraries\n",
    "import pandas as pd\n",
    "import numpy as np\n",
    "import re\n",
    "import matplotlib.pyplot as plt\n",
    "import seaborn as sns\n",
    "\n",
    "%matplotlib inline"
   ]
  },
  {
   "cell_type": "markdown",
   "id": "278aebfa",
   "metadata": {},
   "source": [
    "Suddenly, One of the spirit possesses one of the wizards and the wizard said, **Bring the Data to my Chamber, I need to see what I am dealing with**"
   ]
  },
  {
   "cell_type": "code",
   "execution_count": 181,
   "id": "d6d24914",
   "metadata": {},
   "outputs": [
    {
     "data": {
      "text/html": [
       "<div>\n",
       "<style scoped>\n",
       "    .dataframe tbody tr th:only-of-type {\n",
       "        vertical-align: middle;\n",
       "    }\n",
       "\n",
       "    .dataframe tbody tr th {\n",
       "        vertical-align: top;\n",
       "    }\n",
       "\n",
       "    .dataframe thead th {\n",
       "        text-align: right;\n",
       "    }\n",
       "</style>\n",
       "<table border=\"1\" class=\"dataframe\">\n",
       "  <thead>\n",
       "    <tr style=\"text-align: right;\">\n",
       "      <th></th>\n",
       "      <th>MOVIES</th>\n",
       "      <th>YEAR</th>\n",
       "      <th>GENRE</th>\n",
       "      <th>RATING</th>\n",
       "      <th>ONE-LINE</th>\n",
       "      <th>STARS</th>\n",
       "      <th>VOTES</th>\n",
       "      <th>RunTime</th>\n",
       "      <th>Gross</th>\n",
       "    </tr>\n",
       "  </thead>\n",
       "  <tbody>\n",
       "    <tr>\n",
       "      <th>4765</th>\n",
       "      <td>Troll</td>\n",
       "      <td>(2022)</td>\n",
       "      <td>\\nAction, Adventure, Fantasy</td>\n",
       "      <td>NaN</td>\n",
       "      <td>\\nDeep in the Dovre mountain, something gigant...</td>\n",
       "      <td>\\n    Director:\\nRoar Uthaug\\n</td>\n",
       "      <td>NaN</td>\n",
       "      <td>NaN</td>\n",
       "      <td>NaN</td>\n",
       "    </tr>\n",
       "    <tr>\n",
       "      <th>9097</th>\n",
       "      <td>Power Rangers: Dino Fury</td>\n",
       "      <td>(2021)</td>\n",
       "      <td>\\nAction, Adventure, Comedy</td>\n",
       "      <td>9.2</td>\n",
       "      <td>\\nAmelia hunts for ghosts at a creepy mansion....</td>\n",
       "      <td>\\n    Director:\\nCharlie Haskell\\n| \\n    Star...</td>\n",
       "      <td>13</td>\n",
       "      <td>21.0</td>\n",
       "      <td>NaN</td>\n",
       "    </tr>\n",
       "    <tr>\n",
       "      <th>6458</th>\n",
       "      <td>Bruno Motta: Melhor que os Outros Stand Ups qu...</td>\n",
       "      <td>(2017 TV Special)</td>\n",
       "      <td>\\nComedy</td>\n",
       "      <td>NaN</td>\n",
       "      <td>\\nThis live stand up comedy special is a compi...</td>\n",
       "      <td>\\n    Director:\\nDaniel Pacífico\\n| \\n    Star...</td>\n",
       "      <td>NaN</td>\n",
       "      <td>66.0</td>\n",
       "      <td>NaN</td>\n",
       "    </tr>\n",
       "    <tr>\n",
       "      <th>3809</th>\n",
       "      <td>Castle &amp; Castle</td>\n",
       "      <td>(2018– )</td>\n",
       "      <td>\\nDrama</td>\n",
       "      <td>8.6</td>\n",
       "      <td>\\nA drama series set in a law firm, Castle and...</td>\n",
       "      <td>\\n            \\n    Stars:\\nDakore Akande, \\nB...</td>\n",
       "      <td>76</td>\n",
       "      <td>NaN</td>\n",
       "      <td>NaN</td>\n",
       "    </tr>\n",
       "    <tr>\n",
       "      <th>1318</th>\n",
       "      <td>Liu lang di qiu</td>\n",
       "      <td>(2019)</td>\n",
       "      <td>\\nAction, Adventure, Sci-Fi</td>\n",
       "      <td>6.0</td>\n",
       "      <td>\\nAs the sun is dying out, people all around t...</td>\n",
       "      <td>\\n    Director:\\nFrant Gwo\\n| \\n    Stars:\\nJi...</td>\n",
       "      <td>28,264</td>\n",
       "      <td>125.0</td>\n",
       "      <td>$5.88M</td>\n",
       "    </tr>\n",
       "    <tr>\n",
       "      <th>6786</th>\n",
       "      <td>Baby</td>\n",
       "      <td>(2018–2020)</td>\n",
       "      <td>\\nDrama</td>\n",
       "      <td>7.8</td>\n",
       "      <td>\\nChiara gets a peace offering from her dad. C...</td>\n",
       "      <td>\\n    Director:\\nAndrea De Sica\\n| \\n    Stars...</td>\n",
       "      <td>131</td>\n",
       "      <td>49.0</td>\n",
       "      <td>NaN</td>\n",
       "    </tr>\n",
       "    <tr>\n",
       "      <th>6451</th>\n",
       "      <td>Metro</td>\n",
       "      <td>(2008)</td>\n",
       "      <td>\\nDrama</td>\n",
       "      <td>NaN</td>\n",
       "      <td>\\nThe dark heart of the city is the setting fo...</td>\n",
       "      <td>\\n    Director:\\nChristopher Dorrah\\n| \\n    S...</td>\n",
       "      <td>NaN</td>\n",
       "      <td>120.0</td>\n",
       "      <td>NaN</td>\n",
       "    </tr>\n",
       "    <tr>\n",
       "      <th>2158</th>\n",
       "      <td>Fear City: New York vs the Mafia</td>\n",
       "      <td>(2020)</td>\n",
       "      <td>\\nDocumentary, Crime</td>\n",
       "      <td>7.1</td>\n",
       "      <td>\\nFive Mafia families ruled New York with a bl...</td>\n",
       "      <td>\\n            \\n    Stars:\\nJohn Alite, \\nMich...</td>\n",
       "      <td>6,352</td>\n",
       "      <td>156.0</td>\n",
       "      <td>NaN</td>\n",
       "    </tr>\n",
       "    <tr>\n",
       "      <th>282</th>\n",
       "      <td>The Tudors</td>\n",
       "      <td>(2007–2010)</td>\n",
       "      <td>\\nDrama, History, Romance</td>\n",
       "      <td>8.1</td>\n",
       "      <td>\\nA dramatic series about the reign and marria...</td>\n",
       "      <td>\\n            \\n    Stars:\\nJonathan Rhys Meye...</td>\n",
       "      <td>70,514</td>\n",
       "      <td>60.0</td>\n",
       "      <td>NaN</td>\n",
       "    </tr>\n",
       "    <tr>\n",
       "      <th>642</th>\n",
       "      <td>Project Power</td>\n",
       "      <td>(2020)</td>\n",
       "      <td>\\nAction, Crime, Sci-Fi</td>\n",
       "      <td>6.0</td>\n",
       "      <td>\\nWhen a pill that gives its users unpredictab...</td>\n",
       "      <td>\\n    Directors:\\nHenry Joost, \\nAriel Schulma...</td>\n",
       "      <td>77,538</td>\n",
       "      <td>113.0</td>\n",
       "      <td>NaN</td>\n",
       "    </tr>\n",
       "  </tbody>\n",
       "</table>\n",
       "</div>"
      ],
      "text/plain": [
       "                                                 MOVIES               YEAR  \\\n",
       "4765                                              Troll             (2022)   \n",
       "9097                           Power Rangers: Dino Fury             (2021)   \n",
       "6458  Bruno Motta: Melhor que os Outros Stand Ups qu...  (2017 TV Special)   \n",
       "3809                                    Castle & Castle           (2018– )   \n",
       "1318                                    Liu lang di qiu             (2019)   \n",
       "6786                                               Baby        (2018–2020)   \n",
       "6451                                              Metro             (2008)   \n",
       "2158                   Fear City: New York vs the Mafia             (2020)   \n",
       "282                                          The Tudors        (2007–2010)   \n",
       "642                                       Project Power             (2020)   \n",
       "\n",
       "                                         GENRE  RATING  \\\n",
       "4765  \\nAction, Adventure, Fantasy                 NaN   \n",
       "9097   \\nAction, Adventure, Comedy                 9.2   \n",
       "6458                      \\nComedy                 NaN   \n",
       "3809                       \\nDrama                 8.6   \n",
       "1318   \\nAction, Adventure, Sci-Fi                 6.0   \n",
       "6786                       \\nDrama                 7.8   \n",
       "6451                       \\nDrama                 NaN   \n",
       "2158          \\nDocumentary, Crime                 7.1   \n",
       "282      \\nDrama, History, Romance                 8.1   \n",
       "642        \\nAction, Crime, Sci-Fi                 6.0   \n",
       "\n",
       "                                               ONE-LINE  \\\n",
       "4765  \\nDeep in the Dovre mountain, something gigant...   \n",
       "9097  \\nAmelia hunts for ghosts at a creepy mansion....   \n",
       "6458  \\nThis live stand up comedy special is a compi...   \n",
       "3809  \\nA drama series set in a law firm, Castle and...   \n",
       "1318  \\nAs the sun is dying out, people all around t...   \n",
       "6786  \\nChiara gets a peace offering from her dad. C...   \n",
       "6451  \\nThe dark heart of the city is the setting fo...   \n",
       "2158  \\nFive Mafia families ruled New York with a bl...   \n",
       "282   \\nA dramatic series about the reign and marria...   \n",
       "642   \\nWhen a pill that gives its users unpredictab...   \n",
       "\n",
       "                                                  STARS   VOTES  RunTime  \\\n",
       "4765                     \\n    Director:\\nRoar Uthaug\\n     NaN      NaN   \n",
       "9097  \\n    Director:\\nCharlie Haskell\\n| \\n    Star...      13     21.0   \n",
       "6458  \\n    Director:\\nDaniel Pacífico\\n| \\n    Star...     NaN     66.0   \n",
       "3809  \\n            \\n    Stars:\\nDakore Akande, \\nB...      76      NaN   \n",
       "1318  \\n    Director:\\nFrant Gwo\\n| \\n    Stars:\\nJi...  28,264    125.0   \n",
       "6786  \\n    Director:\\nAndrea De Sica\\n| \\n    Stars...     131     49.0   \n",
       "6451  \\n    Director:\\nChristopher Dorrah\\n| \\n    S...     NaN    120.0   \n",
       "2158  \\n            \\n    Stars:\\nJohn Alite, \\nMich...   6,352    156.0   \n",
       "282   \\n            \\n    Stars:\\nJonathan Rhys Meye...  70,514     60.0   \n",
       "642   \\n    Directors:\\nHenry Joost, \\nAriel Schulma...  77,538    113.0   \n",
       "\n",
       "       Gross  \n",
       "4765     NaN  \n",
       "9097     NaN  \n",
       "6458     NaN  \n",
       "3809     NaN  \n",
       "1318  $5.88M  \n",
       "6786     NaN  \n",
       "6451     NaN  \n",
       "2158     NaN  \n",
       "282      NaN  \n",
       "642      NaN  "
      ]
     },
     "execution_count": 181,
     "metadata": {},
     "output_type": "execute_result"
    }
   ],
   "source": [
    "# loading the dataset \n",
    "df= pd.read_csv('movies.csv')\n",
    "\n",
    "# sample of the file\n",
    "df.sample(10)"
   ]
  },
  {
   "cell_type": "code",
   "execution_count": 182,
   "id": "620a4746",
   "metadata": {},
   "outputs": [
    {
     "data": {
      "text/plain": [
       "Index(['MOVIES', 'YEAR', 'GENRE', 'RATING', 'ONE-LINE', 'STARS', 'VOTES',\n",
       "       'RunTime', 'Gross'],\n",
       "      dtype='object')"
      ]
     },
     "execution_count": 182,
     "metadata": {},
     "output_type": "execute_result"
    }
   ],
   "source": [
    "df.columns"
   ]
  },
  {
   "cell_type": "markdown",
   "id": "7c1c2e61",
   "metadata": {},
   "source": [
    "### Wizard's Request\n",
    "\n",
    "Wizard: **Data! I call upon thee**\n",
    "\n",
    "Data: **I heareth thee, What can I do for you?**\n",
    "\n",
    "Wizard: **What is wrong with you?**\n",
    "\n",
    "Data: **I am dirty, I need help cleaning myself up**\n",
    "\n",
    "Wizard: **What can I do to help you?**\n",
    "\n",
    "Data: **You have to do the following**"
   ]
  },
  {
   "cell_type": "markdown",
   "id": "ca894969",
   "metadata": {},
   "source": [
    "<img src = \"downloaded.png\" />"
   ]
  },
  {
   "cell_type": "markdown",
   "id": "412cfcbb",
   "metadata": {},
   "source": [
    "Data: **To clean me up, you need to do the following**\n",
    "\n",
    "- Remove duplicate values from the movies column\n",
    "- Clean the year column to get the appropriate year\n",
    "- Get the first genre from the genre column\n",
    "- Clean the rating column\n",
    "- Get the director name and put it in a different column and also put the stars names in a separate column\n",
    "- Clean the votes column\n",
    "- Clean the runtime column\n",
    "- Clean the gross column\n",
    "\n",
    "\n",
    "Wizard: **Alright boys lets get to work!, we are going to do this step by step**"
   ]
  },
  {
   "cell_type": "markdown",
   "id": "07a2cc59",
   "metadata": {},
   "source": [
    "### Making a copy of the dataset"
   ]
  },
  {
   "cell_type": "code",
   "execution_count": 183,
   "id": "f1d7817a",
   "metadata": {},
   "outputs": [],
   "source": [
    "# to amke a copy of the dataset\n",
    "df_unclean = df.copy()"
   ]
  },
  {
   "cell_type": "markdown",
   "id": "4e140dd5",
   "metadata": {},
   "source": [
    "Now we can clean the dataframe `df` since the unclean copy is stored as `df_unclean`"
   ]
  },
  {
   "cell_type": "markdown",
   "id": "1ee12b67",
   "metadata": {},
   "source": [
    "### Clean the column headers first\n",
    "\n",
    "FIrst, we would be making the column headers to be in lower case which would be easier to work with"
   ]
  },
  {
   "cell_type": "code",
   "execution_count": 184,
   "id": "aa3a0e22",
   "metadata": {},
   "outputs": [
    {
     "data": {
      "text/plain": [
       "Index(['movies', 'year', 'genre', 'rating', 'one-line', 'stars', 'votes',\n",
       "       'runtime', 'gross'],\n",
       "      dtype='object')"
      ]
     },
     "execution_count": 184,
     "metadata": {},
     "output_type": "execute_result"
    }
   ],
   "source": [
    "# change the column names to lower case\n",
    "df.columns = df.columns.str.lower()\n",
    "\n",
    "# to check if the code works\n",
    "df.columns"
   ]
  },
  {
   "cell_type": "markdown",
   "id": "ddb0211e",
   "metadata": {},
   "source": [
    "### What is the shape of the dataset?"
   ]
  },
  {
   "cell_type": "code",
   "execution_count": 185,
   "id": "7fcfa3a6",
   "metadata": {},
   "outputs": [
    {
     "data": {
      "text/plain": [
       "(9999, 9)"
      ]
     },
     "execution_count": 185,
     "metadata": {},
     "output_type": "execute_result"
    }
   ],
   "source": [
    "# to get the shape of the dataset\n",
    "df.shape"
   ]
  },
  {
   "cell_type": "markdown",
   "id": "3b855509",
   "metadata": {},
   "source": [
    "The dataset has 9 columns and 9999 rows\n",
    "\n",
    "\n",
    "### Data Dictionary\n",
    "\n",
    "After observing the column names, I generated a data dictionary for the dataset\n",
    "\n",
    "**Data Dictionary**:\n",
    "\n",
    "- `movies`: This column represents the names of the movies in the dataset. It contains textual data (string).\n",
    "\n",
    "- `year`: This column represents the release year of the movies. It contains numerical data (integer or float) representing the year.\n",
    "\n",
    "- `genre`: This column represents the genre or category of the movies. It contains textual data (string).\n",
    "\n",
    "- `rating`: This column represents the rating of the movies. It contains textual data (string or categorical data) indicating the rating.\n",
    "\n",
    "- `one-line`: This column represents a one-line description or summary of the movies. It contains textual data (string).\n",
    "\n",
    "- `stars`: This column represents the stars or actors/actresses associated with the movies. It contains textual data (string).\n",
    "\n",
    "- `votes`: This column represents the number of votes received by the movies. It contains numerical data (integer or float) indicating the count of votes.\n",
    "\n",
    "- `runtime`: This column represents the duration or runtime of the movies. It contains numerical data (integer or float) representing the duration in minutes.\n",
    "\n",
    "- `gross`: This column represents the gross earnings or revenue generated by the movies. It contains numerical data (integer or float) representing the amount in a specific currency.\n",
    "\n",
    "Now let us proceed to cleaning the data\n",
    "\n",
    "\n",
    "NB: This data dictionary was generated by ChatGPT"
   ]
  },
  {
   "cell_type": "markdown",
   "id": "255859bd",
   "metadata": {},
   "source": [
    "### Cleaning Step 1: Removing Duplicates in the movie column\n",
    "\n",
    "First let me check how many duplicates are there in the `movies` column"
   ]
  },
  {
   "cell_type": "code",
   "execution_count": 186,
   "id": "33084836",
   "metadata": {},
   "outputs": [
    {
     "data": {
      "text/plain": [
       "False    6817\n",
       "True     3182\n",
       "Name: movies, dtype: int64"
      ]
     },
     "execution_count": 186,
     "metadata": {},
     "output_type": "execute_result"
    }
   ],
   "source": [
    "# check for duplicates\n",
    "df['movies'].duplicated().value_counts()"
   ]
  },
  {
   "cell_type": "code",
   "execution_count": 187,
   "id": "e504d04b",
   "metadata": {},
   "outputs": [
    {
     "name": "stdout",
     "output_type": "stream",
     "text": [
      "33.26% of the data is duplicated on the 'movie' column\n"
     ]
    }
   ],
   "source": [
    "# what is the percentae of duplicate movies\n",
    "duplicated_perc = df['movies'].duplicated().value_counts()[1]/df.duplicated().value_counts()[0]*100\n",
    "\n",
    "# print out results\n",
    "print(f\"{round(duplicated_perc, 2)}% of the data is duplicated on the 'movie' column\")"
   ]
  },
  {
   "cell_type": "markdown",
   "id": "e47c7161",
   "metadata": {},
   "source": [
    "**Let's drop these duplicate records**"
   ]
  },
  {
   "cell_type": "code",
   "execution_count": 188,
   "id": "832a4424",
   "metadata": {},
   "outputs": [
    {
     "data": {
      "text/plain": [
       "False    6817\n",
       "dtype: int64"
      ]
     },
     "execution_count": 188,
     "metadata": {},
     "output_type": "execute_result"
    }
   ],
   "source": [
    "# drop duplicates and reset the index\n",
    "df = df.drop_duplicates(subset='movies', keep=\"first\").reset_index(drop=True)\n",
    "\n",
    "# check if the duplicates were dropped\n",
    "df.duplicated().value_counts()"
   ]
  },
  {
   "cell_type": "markdown",
   "id": "3d3a26d6",
   "metadata": {},
   "source": [
    "**The Duplicates in the `movies` Column has been taken care of**"
   ]
  },
  {
   "cell_type": "markdown",
   "id": "15470a74",
   "metadata": {},
   "source": [
    "### Cleaning Step 2: Clean the year column to get the appropriate year\n",
    "\n",
    "Let us look at the `year` column"
   ]
  },
  {
   "cell_type": "code",
   "execution_count": 189,
   "id": "9136eaf9",
   "metadata": {},
   "outputs": [
    {
     "data": {
      "text/plain": [
       "array(['(2021)', '(2021– )', '(2010–2022)', '(2013– )', '(2020– )',\n",
       "       '(2006–2013)', '(2019– )', '(2016–2021)', '(2011– )', '(2005– )',\n",
       "       '(2008–2013)', '(2017– )', '(2017–2021)', '(2016– )',\n",
       "       '(1994–2004)', '(2014– )', '(2013–2020)', '(2015– )',\n",
       "       '(2005–2020)', '(2013–2022)', '(2003– )', '(2009–2020)',\n",
       "       '(I) (2018– )', '(2010–2015)', '(2011–2019)', '(2015–2020)',\n",
       "       '(2005–2014)', '(2009–2015)', '(2008–2014)', '(2016–2018)',\n",
       "       '(2009–2017)', '(2020)', '(2018–2021)', '(2017–2020)',\n",
       "       '(1987–1994)', '(2018– )', '(2012– )', '(2014–2020)',\n",
       "       '(2011–2018)', '(2005–2017)', '(2017)', '(2007–2015)',\n",
       "       '(2000–2007)', '(II) (2007– )', '(1993)', '(1999–2022)',\n",
       "       '(2015–2018)', '(2014–2019)', '(2016)', '(2012–2020)',\n",
       "       '(2013–2019)', '(2007–2012)', '(2011–2020)', '(2010–2017)',\n",
       "       '(2000–2015)', '(2015–2021)', '(2001)', '(1997– )', '(2011–2017)',\n",
       "       '(1993–1999)', '(1989–1998)', '(2010–2013)', '(2010–2020)',\n",
       "       '(2003–2019)', '(I) (2019)', '(2017–2019)', '(1975)',\n",
       "       '(2005–2008)', '(1995–2001)', '(2006)', '(2015–2017)',\n",
       "       '(2008–2020)', '(1984–1996)', '(2010– )', '(2014)', '(2000)',\n",
       "       '(2013–2018)', '(2009–2016)', '(2016–2020)', '(2021 TV Special)',\n",
       "       '(2003)', '(1998–2003)', '(I) (2017)', '(1966–1969)', '(2009– )',\n",
       "       '(2019)', '(1990–1991)', '(2012)', '(1995)', '(2020–2021)',\n",
       "       '(2013–2017)', '(2015)', '(2019–2020)', '(2017–2018)',\n",
       "       '(2013–2015)', '(2012–2017)', '(I) (2013–2016)', '(2002)',\n",
       "       '(I) (2020)', '(III) (2021)', '(2018)', '(II) (2016)', '(1976)',\n",
       "       '(1978)', '(2016–2019)', '(2009–2014)', '(2022)', '(2011–2014)',\n",
       "       '(2007–2013)', '(2006–2007)', '(2002–2007)', '(2014–2017)',\n",
       "       '(2010–2019)', '(2008– )', '(2012–2019)', '(2014–2016)',\n",
       "       '(2009–2012)', '(2018–2020)', '(2001–2005)', '(2011–2015)',\n",
       "       '(2014–2018)', '(2015–2019)', '(1982–1993)', '(1998– )', '(1968)',\n",
       "       '(2010–2018)', '(2014–2021)', '(2007–2010)', '(2011)',\n",
       "       '(2013–2021)', '(1990–1996)', '(2004)', '(2007–2014)',\n",
       "       '(1996–2001)', '(2008)', '(1999–2000)', '(2012–2014)',\n",
       "       '(I) (2013)', '(2012–2018)', '(2018–2019)', '(2009–2013)',\n",
       "       '(1971)', '(2004– )', '(1989)', '(1998)', '(2001–2018)',\n",
       "       '(1987–1995)', '(I) (2014)', '(1998–2020)', '(I) (2015)', '(1997)',\n",
       "       '(2004–2013)', '(2002– )', '(2010)', '(I) (2016)', '(II) (2017– )',\n",
       "       '(I) (2018)', '(I) (2021)', '(2004–2012)', '(2019–2021)',\n",
       "       '(IV) (2020)', '(2006–2010)', '(2013)', '(2006–2012)', '(1996)',\n",
       "       '(1994–2000)', '(II) (2020)', '(1980)', '(I) (2011)',\n",
       "       '(1995–1996)', '(2016–2017)', '(1993–1996)', '(II) (2019– )',\n",
       "       '(2009)', '(1962)', '(2022– )', '(I) (2012)', '(1984)',\n",
       "       '(2011–2016)', '(2009–2019)', '(II) (2020– )', '(2006–2021)',\n",
       "       '(I) (2010)', '(2012–2015)', '(I) (2013–2014)', '(1960)', '(1988)',\n",
       "       '(2007)', '(1987)', '(2010–2011)', '(1969)', '(2006–2011)',\n",
       "       '(II) (2019)', '(1961)', '(1979)', '(II) (2022)', '(2014–2015)',\n",
       "       '(1956)', '(2013–2016)', '(III) (2018)', '(2005)', '(II) (2012– )',\n",
       "       '(II) (2013)', '(1983)', '(2002–2019)', '(2013 TV Movie)',\n",
       "       '(II) (2015)', '(I) (2012–2015)', '(1975–1979)', '(1990)', nan,\n",
       "       '(II) (2018)', '(IV) (2021)', '(2015–2016)', '(1995–1998)',\n",
       "       '(1986)', '(2012–2013)', '(1966)', '(2011–2012)', '(2011–2021)',\n",
       "       '(2016 Video)', '(2017 TV Movie)', '(2009–2011)', '(2004–2018)',\n",
       "       '(1967)', '(1984– )', '(1994)', '(2003–2006)', '(1974)',\n",
       "       '(2000–2004)', '(1984–2021)', '(I)', '(II) (2021)', '(1994–1999)',\n",
       "       '(III)', '(1992)', '(1969–1974)', '(2012–2016)', '(2013–2014)',\n",
       "       '(I) (2008)', '(1958)', '(2008–2009)', '(II) (2004)',\n",
       "       '(III) (2019)', '(2006–2009)', '(2011–2013)', '(2007–2008)',\n",
       "       '(1988–1999)', '(2010–2012)', '(2010–2014)', '(II) (2012)',\n",
       "       '(1932)', '(2014 TV Movie)', '(1941)', '(2006– )', '(1992–1995)',\n",
       "       '(II) (2017)', '(1991)', '(2016 TV Special)', '(2020 TV Movie)',\n",
       "       '(2008–2010)', '(II)', '(2020 Video)', '(1999– )', '(1950)',\n",
       "       '(2020 TV Special)', '(1992–2014)', '(2002–2005)',\n",
       "       '(2013 TV Special)', '(I) (2021– )', '(1999)', '(2016 TV Movie)',\n",
       "       '(XII)', '(VII)', '(2021 TV Movie)', '(1983– )', '(1996 Video)',\n",
       "       '(1993 TV Movie)', '(2018 TV Movie)', '(2005–2009)', '(2001–2002)',\n",
       "       '(2015 TV Movie)', '(I) (2020– )', '(2011 Video)', '(2008 Video)',\n",
       "       '(2012 Video)', '(II) (2014)', '(2019 Video)', '(1981–1989)',\n",
       "       '(IV) (2016)', '(III) (2016)', '(2019 TV Movie)', '(1952)',\n",
       "       '(2007 Video)', '(2000–2014)', '(1992– )', '(1957)', '(2003–2007)',\n",
       "       '(III) (2015)', '(IV)', '(2008–2017)', '(2008–2019)',\n",
       "       '(1998–2000)', '(I) (2004)', '(2007–2016)', '(2017 TV Special)',\n",
       "       '(2009 TV Movie)', '(2013 Video)', '(2017 Video)', '(1994–1996)',\n",
       "       '(IV) (2018)', '(2007– )', '(1954)', '(2012 TV Movie)', '(1995– )',\n",
       "       '(1982)', '(1955)', '(2014 TV Short)', '(I) (2022– )',\n",
       "       '(I) (2019–2020)', '(1975 TV Movie)', '(2019 TV Special)',\n",
       "       '(2015 TV Special)', '(2015 TV Short)', '(2018 TV Special)',\n",
       "       '(1948)', '(2014 Video)', '(VI) (2014)', '(2003–2013)',\n",
       "       '(2021 Video)', '(1947)', '(2001– )', '(II) (2021– )', '(1946)',\n",
       "       '(1997–2000)', '(III) (2020)', '(I) (2019– )', '(1993– )',\n",
       "       '(1977)', '(I) (2009)', '(V)', '(2023)', '(TV Special)',\n",
       "       '(II) (2011)', '(TV Movie)', '(1945)', '(2015 Video)',\n",
       "       '(III) (2010)', '(2009 Video)', '(1998–2002)', '(2008 TV Movie)',\n",
       "       '(2019 TV Short)', '(2004 Video)', '(II) (1998)',\n",
       "       '(2014 TV Special)', '(1953)', '(1985)', '(VIII)', '(1973)',\n",
       "       '(2012 TV Special)', '(V) (2016)', '(1972)', '(V) (2018)',\n",
       "       '(II) (2010)', '(2021 TV Short)', '(VI) (2019)', '(I) (2005)',\n",
       "       '(1965)', '(2010–2016)', '(V) (2010)', '(2005–2013)',\n",
       "       '(2006 TV Special)', '(2006 Video)', '(2011 TV Movie)',\n",
       "       '(1988 TV Movie)', '(XXIII)', '(2011 TV Special)',\n",
       "       '(2020 TV Short)', '(VI) (2018)', '(2008 TV Special)',\n",
       "       '(1998–1999)', '(I) (2015– )', '(III) (2012)', '(VI)',\n",
       "       '(2010 TV Special)', '(III) (2017)', '(1993 TV Special)',\n",
       "       '(2004–2005)', '(1992 Video)', '(1989 TV Special)', '(III) (2014)',\n",
       "       '(1966 TV Special)', '(1999 TV Movie)', '(1987 TV Special)',\n",
       "       '(1944)', '(1998 TV Special)', '(2022 TV Special)', '(1989 Video)',\n",
       "       '(1991 TV Special)', '(IV) (2014)', '(2005 Video)',\n",
       "       '(2007 TV Special)', '(1965 TV Special)', '(1990 TV Special)',\n",
       "       '(2001 TV Special)', '(IX)', '(II) (2016– )', '(XIV) (2017)',\n",
       "       '(2009–2010)', '(XIII)', '(II) (2012–2019)', '(1933)',\n",
       "       '(II) (2009)', '(2010 Video)', '(2009 TV Special)', '(XI)',\n",
       "       '(1938)', '(2003 TV Special)', '(Video)', '(2001 TV Movie)',\n",
       "       '(VI) (2016)', '(III) (2011)', '(2006 TV Movie)',\n",
       "       '(2007 TV Movie)', '(2017 TV Short)', '(2018 Video)',\n",
       "       '(2000 Video)', '(1995 Video)', '(2003 Video)',\n",
       "       '(II) (2016 TV Movie)', '(1998 Video)', '(2005 TV Special)',\n",
       "       '(2004–2009)', '(2018 Video Game)', '(1988– )', '(1985– )'],\n",
       "      dtype=object)"
      ]
     },
     "execution_count": 189,
     "metadata": {},
     "output_type": "execute_result"
    }
   ],
   "source": [
    "# to check out the year column\n",
    "df['year'].unique()"
   ]
  },
  {
   "cell_type": "markdown",
   "id": "0e0d8ca0",
   "metadata": {},
   "source": [
    "**That is really messy**..... To Clean the year column. We would extract the first four numeric values as the year"
   ]
  },
  {
   "cell_type": "code",
   "execution_count": 190,
   "id": "f4adf879",
   "metadata": {},
   "outputs": [
    {
     "data": {
      "text/plain": [
       "array(['2021', '2010', '2013', '2020', '2006', '2019', '2016', '2011',\n",
       "       '2005', '2008', '2017', '1994', '2014', '2015', '2003', '2009',\n",
       "       '2018', '1987', '2012', '2007', '2000', '1993', '1999', '2001',\n",
       "       '1997', '1989', '1975', '1995', '1984', '1998', '1966', '1990',\n",
       "       '2002', '1976', '1978', '2022', '1982', '1968', '2004', '1996',\n",
       "       '1971', '1980', '1962', '1960', '1988', '1969', '1961', '1979',\n",
       "       '1956', '1983', nan, '1986', '1967', '1974', '1992', '1958',\n",
       "       '1932', '1941', '1991', '1950', '1981', '1952', '1957', '1954',\n",
       "       '1955', '1948', '1947', '1946', '1977', '2023', '1945', '1953',\n",
       "       '1985', '1973', '1972', '1965', '1944', '1933', '1938'],\n",
       "      dtype=object)"
      ]
     },
     "execution_count": 190,
     "metadata": {},
     "output_type": "execute_result"
    }
   ],
   "source": [
    "# extract the first four numeric characters as the year \n",
    "df['year'] = df['year'].str.extract(r'(\\d{4})')\n",
    "\n",
    "# to check if it worked\n",
    "df['year'].unique()"
   ]
  },
  {
   "cell_type": "markdown",
   "id": "f9cda66f",
   "metadata": {},
   "source": [
    "**Now That Looks Clean**, Let me change the datatype to integer "
   ]
  },
  {
   "cell_type": "code",
   "execution_count": 191,
   "id": "b5ada0e3",
   "metadata": {},
   "outputs": [
    {
     "data": {
      "text/plain": [
       "Int64Dtype()"
      ]
     },
     "execution_count": 191,
     "metadata": {},
     "output_type": "execute_result"
    }
   ],
   "source": [
    "# convert the year column to integer\n",
    "df['year'] = df['year'].astype('Int64')\n",
    "\n",
    "# to check if it was changed\n",
    "df['year'].dtype"
   ]
  },
  {
   "cell_type": "markdown",
   "id": "96486d80",
   "metadata": {},
   "source": [
    "Before I conclude with this column, I noticed that there are null values in the column\n",
    "\n",
    "Let us find out how many null values"
   ]
  },
  {
   "cell_type": "code",
   "execution_count": 192,
   "id": "6c047cd9",
   "metadata": {},
   "outputs": [
    {
     "data": {
      "text/plain": [
       "542"
      ]
     },
     "execution_count": 192,
     "metadata": {},
     "output_type": "execute_result"
    }
   ],
   "source": [
    "# counting null values\n",
    "df['year'].isna().sum()"
   ]
  },
  {
   "cell_type": "markdown",
   "id": "b99a4941",
   "metadata": {},
   "source": [
    "There are 542 null values in the `year` column. The best way to handle this missing values is to research for the names of these movies and fill in the actual release year of the movies. I would also give a hint on how to track the missing release years for the movies.\n",
    "\n",
    "The years in the `year` column go from 1938 till 2023. I want to find the years that are not in the range maybe they could be the missing years or could give us a scope of years that movies were not released"
   ]
  },
  {
   "cell_type": "code",
   "execution_count": 235,
   "id": "0c6d0918",
   "metadata": {},
   "outputs": [
    {
     "name": "stdout",
     "output_type": "stream",
     "text": [
      "The missing year(s) between 1938 and 2023: {1959, 1963, 1964, 1970, 1939, 1940, 1942, 1943, 1949, 1951}\n"
     ]
    }
   ],
   "source": [
    "# Assuming the column name is \"year\" where the years are stored\n",
    "year_column = df['year']\n",
    "\n",
    "# Create a set of unique years in the column\n",
    "unique_years = set(year_column)\n",
    "\n",
    "# Generate a set of all years from 1938 to 2021\n",
    "all_years = set(range(1938, 2022))\n",
    "\n",
    "# Find the missing year(s)\n",
    "missing_years = all_years - unique_years\n",
    "\n",
    "print(f\"The missing year(s) between 1938 and 2023: {missing_years}\")"
   ]
  },
  {
   "cell_type": "markdown",
   "id": "d74bc5aa",
   "metadata": {},
   "source": [
    "These are the years that have no movies released in those years. This could give a clue in tracking down the missing release years"
   ]
  },
  {
   "cell_type": "markdown",
   "id": "0e3326db",
   "metadata": {},
   "source": [
    "### Cleaning Step 3: Get the first genre from the genre column\n",
    "\n",
    "To check what is in the `genre` column"
   ]
  },
  {
   "cell_type": "code",
   "execution_count": 194,
   "id": "70c9cdea",
   "metadata": {},
   "outputs": [
    {
     "data": {
      "text/plain": [
       "4063                           \\nDrama            \n",
       "2727                          \\nComedy            \n",
       "713            \\nCrime, Drama, Mystery            \n",
       "2450                 \\nComedy, Musical            \n",
       "5958    \\nAnimation, Action, Adventure            \n",
       "1833                      \\nReality-TV            \n",
       "659       \\nAction, Adventure, Fantasy            \n",
       "1988        \\nDrama, Mystery, Thriller            \n",
       "852                           \\nComedy            \n",
       "5527                           \\nShort            \n",
       "Name: genre, dtype: object"
      ]
     },
     "execution_count": 194,
     "metadata": {},
     "output_type": "execute_result"
    }
   ],
   "source": [
    "# to see a sample of the genre column\n",
    "df['genre'].sample(10)"
   ]
  },
  {
   "cell_type": "markdown",
   "id": "fa7860be",
   "metadata": {},
   "source": [
    "To get the first genre from each row"
   ]
  },
  {
   "cell_type": "code",
   "execution_count": 195,
   "id": "30286bc7",
   "metadata": {},
   "outputs": [
    {
     "data": {
      "text/plain": [
       "2478    Documentary\n",
       "1431          Crime\n",
       "5411      Animation\n",
       "4041          Drama\n",
       "3450          Drama\n",
       "2800          Drama\n",
       "4591         Comedy\n",
       "6642         Comedy\n",
       "3365          Drama\n",
       "5273          Drama\n",
       "Name: genre, dtype: object"
      ]
     },
     "execution_count": 195,
     "metadata": {},
     "output_type": "execute_result"
    }
   ],
   "source": [
    "# extract the first genre \n",
    "df['genre'] = df['genre'].str.split(',').str[0].str.strip()\n",
    "\n",
    "\n",
    "# to check if it worked\n",
    "df['genre'].sample(10)"
   ]
  },
  {
   "cell_type": "markdown",
   "id": "da391706",
   "metadata": {},
   "source": [
    "Let me check the distribution of the `genre` column"
   ]
  },
  {
   "cell_type": "code",
   "execution_count": 196,
   "id": "e26d27dc",
   "metadata": {},
   "outputs": [
    {
     "data": {
      "text/plain": [
       "Comedy         1491\n",
       "Drama          1164\n",
       "Documentary    1002\n",
       "Animation       917\n",
       "Action          821\n",
       "Crime           394\n",
       "Adventure       152\n",
       "Horror          149\n",
       "Biography       141\n",
       "Reality-TV      133\n",
       "Short            66\n",
       "Thriller         65\n",
       "Family           52\n",
       "Romance          37\n",
       "Game-Show        31\n",
       "Fantasy          30\n",
       "Mystery          22\n",
       "Music            19\n",
       "Sci-Fi           18\n",
       "Talk-Show        17\n",
       "Sport             6\n",
       "Western           6\n",
       "News              5\n",
       "Musical           4\n",
       "History           2\n",
       "Film-Noir         1\n",
       "War               1\n",
       "Name: genre, dtype: int64"
      ]
     },
     "execution_count": 196,
     "metadata": {},
     "output_type": "execute_result"
    }
   ],
   "source": [
    "# check the values\n",
    "df.genre.value_counts()"
   ]
  },
  {
   "cell_type": "markdown",
   "id": "da51399d",
   "metadata": {},
   "source": [
    "Let me check if there are null values in the `genre` column"
   ]
  },
  {
   "cell_type": "code",
   "execution_count": 197,
   "id": "22063ff6",
   "metadata": {},
   "outputs": [
    {
     "data": {
      "text/plain": [
       "71"
      ]
     },
     "execution_count": 197,
     "metadata": {},
     "output_type": "execute_result"
    }
   ],
   "source": [
    "df['genre'].isnull().sum()"
   ]
  },
  {
   "cell_type": "markdown",
   "id": "aab9c9ad",
   "metadata": {},
   "source": [
    "According to [Analytics Vidhya](https://www.analyticsvidhya.com/blog/2021/04/how-to-handle-missing-values-of-categorical-variables/), There are different ways to handle null values in a column containing categorical variables and from the methods listed, in the website, I would fill in the null values with the mode genre"
   ]
  },
  {
   "cell_type": "code",
   "execution_count": 198,
   "id": "aa415773",
   "metadata": {},
   "outputs": [
    {
     "data": {
      "text/plain": [
       "0"
      ]
     },
     "execution_count": 198,
     "metadata": {},
     "output_type": "execute_result"
    }
   ],
   "source": [
    "# Calculate the mode of the 'genre' column\n",
    "genre_mode = df['genre'].mode().iloc[0]\n",
    "\n",
    "# Fill missing values with the mode\n",
    "df['genre'].fillna(genre_mode, inplace=True)\n",
    "\n",
    "# to check if it worked\n",
    "df['genre'].isna().sum()"
   ]
  },
  {
   "cell_type": "code",
   "execution_count": 199,
   "id": "037dd2d3",
   "metadata": {},
   "outputs": [
    {
     "data": {
      "text/plain": [
       "Comedy         1562\n",
       "Drama          1164\n",
       "Documentary    1002\n",
       "Animation       917\n",
       "Action          821\n",
       "Crime           394\n",
       "Adventure       152\n",
       "Horror          149\n",
       "Biography       141\n",
       "Reality-TV      133\n",
       "Short            66\n",
       "Thriller         65\n",
       "Family           52\n",
       "Romance          37\n",
       "Game-Show        31\n",
       "Fantasy          30\n",
       "Mystery          22\n",
       "Music            19\n",
       "Sci-Fi           18\n",
       "Talk-Show        17\n",
       "Sport             6\n",
       "Western           6\n",
       "News              5\n",
       "Musical           4\n",
       "History           2\n",
       "Film-Noir         1\n",
       "War               1\n",
       "Name: genre, dtype: int64"
      ]
     },
     "execution_count": 199,
     "metadata": {},
     "output_type": "execute_result"
    }
   ],
   "source": [
    "# to check the count of the genre column\n",
    "df.genre.value_counts()"
   ]
  },
  {
   "cell_type": "markdown",
   "id": "27c68ddc",
   "metadata": {},
   "source": [
    "The `genre` column is clean"
   ]
  },
  {
   "cell_type": "markdown",
   "id": "215b94a5",
   "metadata": {},
   "source": [
    "### Cleaning Step 4: Clean the rating column\n",
    "\n",
    "Before we clean the rating column, we would like the check the distribution of the `rating` column"
   ]
  },
  {
   "cell_type": "code",
   "execution_count": 200,
   "id": "2459b89d",
   "metadata": {},
   "outputs": [
    {
     "data": {
      "image/png": "[encoded data removed]",
      "text/plain": [
       "<Figure size 640x480 with 1 Axes>"
      ]
     },
     "metadata": {},
     "output_type": "display_data"
    }
   ],
   "source": [
    "# Plot the distribution of the rating column\n",
    "plt.hist(df['rating'], bins=20, color='skyblue', edgecolor='black')\n",
    "plt.xlabel('Ratings')  # Corrected: Use plt.xlabel instead of plt.set_xlabel\n",
    "plt.ylabel('Frequency')  # Corrected: Use plt.ylabel instead of plt.set_ylabel\n",
    "plt.title('Histogram showing Distribution of movie ratings')  # Corrected: Use plt.title instead of plt.set_title\n",
    "\n",
    "# Display the histogram\n",
    "plt.show()"
   ]
  },
  {
   "cell_type": "markdown",
   "id": "5a12e0a2",
   "metadata": {},
   "source": [
    "From the image above the distribution is skewed to the left. Next let me check if there are outliers in my rating column"
   ]
  },
  {
   "cell_type": "code",
   "execution_count": 201,
   "id": "251f6eea",
   "metadata": {},
   "outputs": [
    {
     "data": {
      "image/png": "[encoded data removed]",
      "text/plain": [
       "<Figure size 640x480 with 1 Axes>"
      ]
     },
     "metadata": {},
     "output_type": "display_data"
    }
   ],
   "source": [
    "# Plotting the violin plot\n",
    "sns.boxplot(data=df, y='rating')\n",
    "plt.xlabel('Column')\n",
    "plt.ylabel('Rating')\n",
    "plt.title('Box Plot of Ratings')\n",
    "plt.grid(False)\n",
    "plt.show()"
   ]
  },
  {
   "cell_type": "code",
   "execution_count": 202,
   "id": "fc8e9047",
   "metadata": {},
   "outputs": [
    {
     "data": {
      "text/plain": [
       "count    5815.000000\n",
       "mean        6.635529\n",
       "std         1.210105\n",
       "min         1.100000\n",
       "25%         5.900000\n",
       "50%         6.800000\n",
       "75%         7.500000\n",
       "max         9.400000\n",
       "Name: rating, dtype: float64"
      ]
     },
     "execution_count": 202,
     "metadata": {},
     "output_type": "execute_result"
    }
   ],
   "source": [
    "# to check the descriptive statistics of the ratings column\n",
    "df['rating'].describe()"
   ]
  },
  {
   "cell_type": "markdown",
   "id": "dc7a337d",
   "metadata": {},
   "source": [
    "I am going to use a python script to detect outliers in my column using statistical methods called interquartile range"
   ]
  },
  {
   "cell_type": "code",
   "execution_count": 203,
   "id": "c14b237f",
   "metadata": {},
   "outputs": [
    {
     "name": "stdout",
     "output_type": "stream",
     "text": [
      "number of outliers: 100\n",
      "max outlier value: 3.5\n",
      "min outlier value: 1.1\n"
     ]
    },
    {
     "data": {
      "text/plain": [
       "56      3.3\n",
       "415     2.7\n",
       "460     3.1\n",
       "610     2.8\n",
       "807     3.5\n",
       "       ... \n",
       "5974    2.8\n",
       "6054    3.0\n",
       "6066    3.0\n",
       "6139    3.2\n",
       "6229    3.1\n",
       "Name: rating, Length: 100, dtype: float64"
      ]
     },
     "execution_count": 203,
     "metadata": {},
     "output_type": "execute_result"
    }
   ],
   "source": [
    "#create a function to find outliers using IQR\n",
    "def find_outliers_IQR(df):\n",
    "    q1 =df.quantile(0.25)\n",
    "    q3=df.quantile(0.75)\n",
    "    IQR=q3-q1\n",
    "    outliers = df[((df<(q1-1.5*IQR)) | (df>(q3+1.5*IQR)))]\n",
    "    return outliers\n",
    "\n",
    "\n",
    "# to print out the outliers\n",
    "outliers = find_outliers_IQR(df['rating'])\n",
    "print('number of outliers: '+ str(len(outliers)))\n",
    "print('max outlier value: '+ str(outliers.max()))\n",
    "print('min outlier value: '+ str(outliers.min()))\n",
    "outliers"
   ]
  },
  {
   "cell_type": "markdown",
   "id": "ac944b5d",
   "metadata": {},
   "source": [
    "**Now to handle the outlier values**\n",
    "\n",
    "To handle the outliers, I am going to be using the \"Capping\" technique. In this technique, we essentially set a limit for the min and max outlier values. Anything above or below the cap gets set to the capped min or max respectively\n",
    "\n",
    "To cap the outliers, We will calculate a upper limit and lower limit. For the upper limit, we will use 10 because our ratings cannot go above 10. For the lower limit, we will 3.5 being the maximum outlier value"
   ]
  },
  {
   "cell_type": "code",
   "execution_count": 204,
   "id": "4b4afd3a",
   "metadata": {},
   "outputs": [
    {
     "name": "stdout",
     "output_type": "stream",
     "text": [
      "3.5\n",
      "9.4\n"
     ]
    }
   ],
   "source": [
    "# to get out upper and lower limit\n",
    "upper_limit = 10\n",
    "lower_limit = 3.5\n",
    "\n",
    "# to replace the outliers\n",
    "df['rating'] = np.where(df['rating'] > upper_limit,\n",
    "   upper_limit, np.where(df['rating'] < lower_limit, lower_limit, df['rating']))\n",
    "\n",
    "# to check if there are still outliers in the dataset\n",
    "print(df['rating'].min())\n",
    "print(df['rating'].max())"
   ]
  },
  {
   "cell_type": "code",
   "execution_count": 205,
   "id": "e972b5c0",
   "metadata": {},
   "outputs": [
    {
     "data": {
      "image/png": "[encoded data removed]",
      "text/plain": [
       "<Figure size 640x480 with 1 Axes>"
      ]
     },
     "metadata": {},
     "output_type": "display_data"
    }
   ],
   "source": [
    "#to check using the box plot \n",
    "sns.boxplot(data=df, y='rating')\n",
    "plt.ylabel('Rating')\n",
    "plt.title('Boxplot Plot of Ratings')\n",
    "plt.grid(False)\n",
    "plt.show()"
   ]
  },
  {
   "cell_type": "markdown",
   "id": "ba8c2a9b",
   "metadata": {},
   "source": [
    "**Outliers have been taken care of**\n",
    "\n",
    "Next is to check for null values"
   ]
  },
  {
   "cell_type": "code",
   "execution_count": 206,
   "id": "d3cf4c39",
   "metadata": {},
   "outputs": [
    {
     "data": {
      "text/plain": [
       "1002"
      ]
     },
     "execution_count": 206,
     "metadata": {},
     "output_type": "execute_result"
    }
   ],
   "source": [
    "# to check for null values in the dataset\n",
    "df['rating'].isna().sum()"
   ]
  },
  {
   "cell_type": "markdown",
   "id": "85ce7d65",
   "metadata": {},
   "source": [
    "Before I handle the null values, I would like to check if the null values have votes. This would confirm if I should give ratings to the column or not"
   ]
  },
  {
   "cell_type": "code",
   "execution_count": 207,
   "id": "e750948e",
   "metadata": {},
   "outputs": [
    {
     "data": {
      "text/html": [
       "<div>\n",
       "<style scoped>\n",
       "    .dataframe tbody tr th:only-of-type {\n",
       "        vertical-align: middle;\n",
       "    }\n",
       "\n",
       "    .dataframe tbody tr th {\n",
       "        vertical-align: top;\n",
       "    }\n",
       "\n",
       "    .dataframe thead th {\n",
       "        text-align: right;\n",
       "    }\n",
       "</style>\n",
       "<table border=\"1\" class=\"dataframe\">\n",
       "  <thead>\n",
       "    <tr style=\"text-align: right;\">\n",
       "      <th></th>\n",
       "      <th>movies</th>\n",
       "      <th>year</th>\n",
       "      <th>genre</th>\n",
       "      <th>rating</th>\n",
       "      <th>one-line</th>\n",
       "      <th>stars</th>\n",
       "      <th>votes</th>\n",
       "      <th>runtime</th>\n",
       "      <th>gross</th>\n",
       "    </tr>\n",
       "  </thead>\n",
       "  <tbody>\n",
       "    <tr>\n",
       "      <th>4</th>\n",
       "      <td>Army of Thieves</td>\n",
       "      <td>2021</td>\n",
       "      <td>Action</td>\n",
       "      <td>NaN</td>\n",
       "      <td>\\nA prequel, set before the events of Army of ...</td>\n",
       "      <td>\\n    Director:\\nMatthias Schweighöfer\\n| \\n  ...</td>\n",
       "      <td>NaN</td>\n",
       "      <td>NaN</td>\n",
       "      <td>NaN</td>\n",
       "    </tr>\n",
       "    <tr>\n",
       "      <th>24</th>\n",
       "      <td>He-Man and the Masters of the Universe</td>\n",
       "      <td>2021</td>\n",
       "      <td>Animation</td>\n",
       "      <td>NaN</td>\n",
       "      <td>\\nEternia's Prince Adam discovers the power of...</td>\n",
       "      <td>\\n</td>\n",
       "      <td>NaN</td>\n",
       "      <td>NaN</td>\n",
       "      <td>NaN</td>\n",
       "    </tr>\n",
       "    <tr>\n",
       "      <th>214</th>\n",
       "      <td>Sing 2</td>\n",
       "      <td>2021</td>\n",
       "      <td>Animation</td>\n",
       "      <td>NaN</td>\n",
       "      <td>\\nBuster Moon and his friends must persuade re...</td>\n",
       "      <td>\\n    Director:\\nGarth Jennings\\n| \\n    Stars...</td>\n",
       "      <td>NaN</td>\n",
       "      <td>NaN</td>\n",
       "      <td>NaN</td>\n",
       "    </tr>\n",
       "    <tr>\n",
       "      <th>217</th>\n",
       "      <td>Knives Out 2</td>\n",
       "      <td>2022</td>\n",
       "      <td>Comedy</td>\n",
       "      <td>NaN</td>\n",
       "      <td>\\nPlot unknown. Sequel to the 2019 film 'Knive...</td>\n",
       "      <td>\\n    Director:\\nRian Johnson\\n| \\n    Stars:\\...</td>\n",
       "      <td>NaN</td>\n",
       "      <td>NaN</td>\n",
       "      <td>NaN</td>\n",
       "    </tr>\n",
       "    <tr>\n",
       "      <th>222</th>\n",
       "      <td>Don't Look Up</td>\n",
       "      <td>2021</td>\n",
       "      <td>Comedy</td>\n",
       "      <td>NaN</td>\n",
       "      <td>\\nThe story of two low-level astronomers, who ...</td>\n",
       "      <td>\\n    Director:\\nAdam McKay\\n| \\n    Stars:\\nT...</td>\n",
       "      <td>NaN</td>\n",
       "      <td>145.0</td>\n",
       "      <td>NaN</td>\n",
       "    </tr>\n",
       "  </tbody>\n",
       "</table>\n",
       "</div>"
      ],
      "text/plain": [
       "                                     movies  year      genre  rating  \\\n",
       "4                           Army of Thieves  2021     Action     NaN   \n",
       "24   He-Man and the Masters of the Universe  2021  Animation     NaN   \n",
       "214                                  Sing 2  2021  Animation     NaN   \n",
       "217                            Knives Out 2  2022     Comedy     NaN   \n",
       "222                           Don't Look Up  2021     Comedy     NaN   \n",
       "\n",
       "                                              one-line  \\\n",
       "4    \\nA prequel, set before the events of Army of ...   \n",
       "24   \\nEternia's Prince Adam discovers the power of...   \n",
       "214  \\nBuster Moon and his friends must persuade re...   \n",
       "217  \\nPlot unknown. Sequel to the 2019 film 'Knive...   \n",
       "222  \\nThe story of two low-level astronomers, who ...   \n",
       "\n",
       "                                                 stars votes  runtime gross  \n",
       "4    \\n    Director:\\nMatthias Schweighöfer\\n| \\n  ...   NaN      NaN   NaN  \n",
       "24                                                  \\n   NaN      NaN   NaN  \n",
       "214  \\n    Director:\\nGarth Jennings\\n| \\n    Stars...   NaN      NaN   NaN  \n",
       "217  \\n    Director:\\nRian Johnson\\n| \\n    Stars:\\...   NaN      NaN   NaN  \n",
       "222  \\n    Director:\\nAdam McKay\\n| \\n    Stars:\\nT...   NaN    145.0   NaN  "
      ]
     },
     "execution_count": 207,
     "metadata": {},
     "output_type": "execute_result"
    }
   ],
   "source": [
    "# to confirm if there are any votes for ratings with null\n",
    "novotes_df = df[df['rating'].isna()]\n",
    "\n",
    "novotes_df.head()"
   ]
  },
  {
   "cell_type": "markdown",
   "id": "1263dc9d",
   "metadata": {},
   "source": [
    "to count the number of null values in this column to see if it corresponds to 1002 from the count of null values in the rating column"
   ]
  },
  {
   "cell_type": "code",
   "execution_count": 208,
   "id": "2b234d1c",
   "metadata": {},
   "outputs": [
    {
     "data": {
      "text/plain": [
       "1002"
      ]
     },
     "execution_count": 208,
     "metadata": {},
     "output_type": "execute_result"
    }
   ],
   "source": [
    "novotes_df['votes'].isna().sum()"
   ]
  },
  {
   "cell_type": "markdown",
   "id": "f9d7ebc3",
   "metadata": {},
   "source": [
    "This means that where there were no rating, there were no votes at all. To handle the null values in the ratings column, I would have replaced them with zero but that would mean giving them a poor rating when no one actually gave them a rating. \n",
    "\n",
    "I have decided to replace null Values with \"No Rating\""
   ]
  },
  {
   "cell_type": "code",
   "execution_count": 209,
   "id": "4ab9d151",
   "metadata": {},
   "outputs": [],
   "source": [
    "# Replace null values with the mean\n",
    "df['rating'].fillna(\"No Rating\", inplace=True)"
   ]
  },
  {
   "cell_type": "code",
   "execution_count": 211,
   "id": "d1290d76",
   "metadata": {},
   "outputs": [
    {
     "data": {
      "text/plain": [
       "0"
      ]
     },
     "execution_count": 211,
     "metadata": {},
     "output_type": "execute_result"
    }
   ],
   "source": [
    "# to check if there are still null values\n",
    "df['rating'].isna().sum()"
   ]
  },
  {
   "cell_type": "markdown",
   "id": "92056bcb",
   "metadata": {},
   "source": [
    "**The Rating Column is cleaned**"
   ]
  },
  {
   "cell_type": "markdown",
   "id": "42eff3f3",
   "metadata": {},
   "source": [
    "### Cleaning Step 5: Get the director name and put it in a different column and also put the stars names in a separate column\n",
    "\n",
    "To clean the star column, I would first observe the values of the star column"
   ]
  },
  {
   "cell_type": "code",
   "execution_count": 212,
   "id": "b462944a",
   "metadata": {},
   "outputs": [
    {
     "data": {
      "text/plain": [
       "4298    \\n    Director:\\nPeter Mackenzie\\n| \\n    Star...\n",
       "5685    \\n    Director:\\nEric Juhola\\n| \\n    Stars:\\n...\n",
       "426     \\n            \\n    Stars:\\nJonah Hill, \\nEmma...\n",
       "6433    \\n    Director:\\nOliver Driver\\n| \\n    Stars:...\n",
       "392     \\n            \\n    Stars:\\nAlison Brie, \\nMar...\n",
       "Name: stars, dtype: object"
      ]
     },
     "execution_count": 212,
     "metadata": {},
     "output_type": "execute_result"
    }
   ],
   "source": [
    "# to observe the star column\n",
    "df['stars'].sample(5)"
   ]
  },
  {
   "cell_type": "markdown",
   "id": "26566eda",
   "metadata": {},
   "source": [
    "Before I start extracting the director and the stars, I would first extract the \"\\n\" character and the extra spaces"
   ]
  },
  {
   "cell_type": "code",
   "execution_count": 213,
   "id": "87065311",
   "metadata": {},
   "outputs": [
    {
     "data": {
      "text/plain": [
       "1518    Stars:Marilou Aussilloux, Coline Beal, Amir El...\n",
       "6208    Director:Clementine Malpas|     Stars:Lynsey A...\n",
       "2311    Director:Jae-hyun Jang|     Stars:Yoo Ji-Tae, ...\n",
       "5770                                                     \n",
       "3290    Director:Doug Campbell|     Stars:Eric Roberts...\n",
       "Name: stars, dtype: object"
      ]
     },
     "execution_count": 213,
     "metadata": {},
     "output_type": "execute_result"
    }
   ],
   "source": [
    "# replace the \\n character with a space\n",
    "df['stars'] = df['stars'].str.replace('\\n', '')\n",
    "\n",
    "# strip the leading and trailing spaces\n",
    "df['stars'] = df['stars'].str.strip()\n",
    "\n",
    "# to check if it worked\n",
    "df['stars'].sample(5)"
   ]
  },
  {
   "cell_type": "markdown",
   "id": "4e13a1f3",
   "metadata": {},
   "source": [
    "Next step is to separate the stars and the director. This would be done with the help of regex expressions"
   ]
  },
  {
   "cell_type": "code",
   "execution_count": 214,
   "id": "e3eecff6",
   "metadata": {},
   "outputs": [],
   "source": [
    "# Director:(.*?)\\| captures the text after \"Director:\" and before the \"|\" symbol\n",
    "df['director'] = df['stars'].str.extract(r'Directors?:(.*?)\\|', flags=re.IGNORECASE)[0].str.strip()\n",
    "\n",
    "#Stars:(.*) captures the text after \"Stars:\" as the stars information.\n",
    "df['starring'] = df['stars'].str.extract(r'Stars?:(.*)', flags=re.IGNORECASE)[0].str.strip()"
   ]
  },
  {
   "cell_type": "code",
   "execution_count": 215,
   "id": "d3628271",
   "metadata": {},
   "outputs": [
    {
     "data": {
      "text/html": [
       "<div>\n",
       "<style scoped>\n",
       "    .dataframe tbody tr th:only-of-type {\n",
       "        vertical-align: middle;\n",
       "    }\n",
       "\n",
       "    .dataframe tbody tr th {\n",
       "        vertical-align: top;\n",
       "    }\n",
       "\n",
       "    .dataframe thead th {\n",
       "        text-align: right;\n",
       "    }\n",
       "</style>\n",
       "<table border=\"1\" class=\"dataframe\">\n",
       "  <thead>\n",
       "    <tr style=\"text-align: right;\">\n",
       "      <th></th>\n",
       "      <th>movies</th>\n",
       "      <th>year</th>\n",
       "      <th>genre</th>\n",
       "      <th>rating</th>\n",
       "      <th>one-line</th>\n",
       "      <th>stars</th>\n",
       "      <th>votes</th>\n",
       "      <th>runtime</th>\n",
       "      <th>gross</th>\n",
       "      <th>director</th>\n",
       "      <th>starring</th>\n",
       "    </tr>\n",
       "  </thead>\n",
       "  <tbody>\n",
       "    <tr>\n",
       "      <th>0</th>\n",
       "      <td>Blood Red Sky</td>\n",
       "      <td>2021</td>\n",
       "      <td>Action</td>\n",
       "      <td>6.1</td>\n",
       "      <td>\\nA woman with a mysterious illness is forced ...</td>\n",
       "      <td>Director:Peter Thorwarth|     Stars:Peri Baume...</td>\n",
       "      <td>21,062</td>\n",
       "      <td>121.0</td>\n",
       "      <td>NaN</td>\n",
       "      <td>Peter Thorwarth</td>\n",
       "      <td>Peri Baumeister, Carl Anton Koch, Alexander Sc...</td>\n",
       "    </tr>\n",
       "    <tr>\n",
       "      <th>1</th>\n",
       "      <td>Masters of the Universe: Revelation</td>\n",
       "      <td>2021</td>\n",
       "      <td>Animation</td>\n",
       "      <td>5.0</td>\n",
       "      <td>\\nThe war for Eternia begins again in what may...</td>\n",
       "      <td>Stars:Chris Wood, Sarah Michelle Gellar, Lena ...</td>\n",
       "      <td>17,870</td>\n",
       "      <td>25.0</td>\n",
       "      <td>NaN</td>\n",
       "      <td>NaN</td>\n",
       "      <td>Chris Wood, Sarah Michelle Gellar, Lena Headey...</td>\n",
       "    </tr>\n",
       "    <tr>\n",
       "      <th>2</th>\n",
       "      <td>The Walking Dead</td>\n",
       "      <td>2010</td>\n",
       "      <td>Drama</td>\n",
       "      <td>8.2</td>\n",
       "      <td>\\nSheriff Deputy Rick Grimes wakes up from a c...</td>\n",
       "      <td>Stars:Andrew Lincoln, Norman Reedus, Melissa M...</td>\n",
       "      <td>885,805</td>\n",
       "      <td>44.0</td>\n",
       "      <td>NaN</td>\n",
       "      <td>NaN</td>\n",
       "      <td>Andrew Lincoln, Norman Reedus, Melissa McBride...</td>\n",
       "    </tr>\n",
       "    <tr>\n",
       "      <th>3</th>\n",
       "      <td>Rick and Morty</td>\n",
       "      <td>2013</td>\n",
       "      <td>Animation</td>\n",
       "      <td>9.2</td>\n",
       "      <td>\\nAn animated series that follows the exploits...</td>\n",
       "      <td>Stars:Justin Roiland, Chris Parnell, Spencer G...</td>\n",
       "      <td>414,849</td>\n",
       "      <td>23.0</td>\n",
       "      <td>NaN</td>\n",
       "      <td>NaN</td>\n",
       "      <td>Justin Roiland, Chris Parnell, Spencer Grammer...</td>\n",
       "    </tr>\n",
       "    <tr>\n",
       "      <th>4</th>\n",
       "      <td>Army of Thieves</td>\n",
       "      <td>2021</td>\n",
       "      <td>Action</td>\n",
       "      <td>No Rating</td>\n",
       "      <td>\\nA prequel, set before the events of Army of ...</td>\n",
       "      <td>Director:Matthias Schweighöfer|     Stars:Matt...</td>\n",
       "      <td>NaN</td>\n",
       "      <td>NaN</td>\n",
       "      <td>NaN</td>\n",
       "      <td>Matthias Schweighöfer</td>\n",
       "      <td>Matthias Schweighöfer, Nathalie Emmanuel, Ruby...</td>\n",
       "    </tr>\n",
       "  </tbody>\n",
       "</table>\n",
       "</div>"
      ],
      "text/plain": [
       "                                movies  year      genre     rating  \\\n",
       "0                        Blood Red Sky  2021     Action        6.1   \n",
       "1  Masters of the Universe: Revelation  2021  Animation        5.0   \n",
       "2                     The Walking Dead  2010      Drama        8.2   \n",
       "3                       Rick and Morty  2013  Animation        9.2   \n",
       "4                      Army of Thieves  2021     Action  No Rating   \n",
       "\n",
       "                                            one-line  \\\n",
       "0  \\nA woman with a mysterious illness is forced ...   \n",
       "1  \\nThe war for Eternia begins again in what may...   \n",
       "2  \\nSheriff Deputy Rick Grimes wakes up from a c...   \n",
       "3  \\nAn animated series that follows the exploits...   \n",
       "4  \\nA prequel, set before the events of Army of ...   \n",
       "\n",
       "                                               stars    votes  runtime gross  \\\n",
       "0  Director:Peter Thorwarth|     Stars:Peri Baume...   21,062    121.0   NaN   \n",
       "1  Stars:Chris Wood, Sarah Michelle Gellar, Lena ...   17,870     25.0   NaN   \n",
       "2  Stars:Andrew Lincoln, Norman Reedus, Melissa M...  885,805     44.0   NaN   \n",
       "3  Stars:Justin Roiland, Chris Parnell, Spencer G...  414,849     23.0   NaN   \n",
       "4  Director:Matthias Schweighöfer|     Stars:Matt...      NaN      NaN   NaN   \n",
       "\n",
       "                director                                           starring  \n",
       "0        Peter Thorwarth  Peri Baumeister, Carl Anton Koch, Alexander Sc...  \n",
       "1                    NaN  Chris Wood, Sarah Michelle Gellar, Lena Headey...  \n",
       "2                    NaN  Andrew Lincoln, Norman Reedus, Melissa McBride...  \n",
       "3                    NaN  Justin Roiland, Chris Parnell, Spencer Grammer...  \n",
       "4  Matthias Schweighöfer  Matthias Schweighöfer, Nathalie Emmanuel, Ruby...  "
      ]
     },
     "execution_count": 215,
     "metadata": {},
     "output_type": "execute_result"
    }
   ],
   "source": [
    "# to check if the column was cleaned \n",
    "df.head()"
   ]
  },
  {
   "cell_type": "markdown",
   "id": "b7923f4f",
   "metadata": {},
   "source": [
    "Next step is to drop the column that is unclean, from the dataset"
   ]
  },
  {
   "cell_type": "code",
   "execution_count": 216,
   "id": "9287622f",
   "metadata": {},
   "outputs": [
    {
     "data": {
      "text/plain": [
       "Index(['movies', 'year', 'genre', 'rating', 'one-line', 'votes', 'runtime',\n",
       "       'gross', 'director', 'starring'],\n",
       "      dtype='object')"
      ]
     },
     "execution_count": 216,
     "metadata": {},
     "output_type": "execute_result"
    }
   ],
   "source": [
    "# Drop the 'stars' column\n",
    "df.drop('stars', axis=1, inplace=True)\n",
    "\n",
    "# to check if it actually worked\n",
    "df.columns"
   ]
  },
  {
   "cell_type": "markdown",
   "id": "1f07838e",
   "metadata": {},
   "source": [
    "**Cleaning Task 5 Done**"
   ]
  },
  {
   "cell_type": "markdown",
   "id": "ed4c709c",
   "metadata": {},
   "source": [
    "### Cleaning Task 6: Clean the votes column\n",
    "\n",
    "Before cleaning the voting column, I would love to observe the column values"
   ]
  },
  {
   "cell_type": "code",
   "execution_count": 217,
   "id": "bbc94a88",
   "metadata": {},
   "outputs": [
    {
     "data": {
      "text/plain": [
       "0        21,062\n",
       "1        17,870\n",
       "2       885,805\n",
       "3       414,849\n",
       "4           NaN\n",
       "         ...   \n",
       "6812        NaN\n",
       "6813        NaN\n",
       "6814        NaN\n",
       "6815        NaN\n",
       "6816        NaN\n",
       "Name: votes, Length: 6817, dtype: object"
      ]
     },
     "execution_count": 217,
     "metadata": {},
     "output_type": "execute_result"
    }
   ],
   "source": [
    "# observing the values\n",
    "df.votes"
   ]
  },
  {
   "cell_type": "markdown",
   "id": "424f0a53",
   "metadata": {},
   "source": [
    "First is to replace the \" , \" present in the column and change the datatype to integer"
   ]
  },
  {
   "cell_type": "code",
   "execution_count": 218,
   "id": "4b305092",
   "metadata": {},
   "outputs": [
    {
     "data": {
      "text/plain": [
       "Int64Dtype()"
      ]
     },
     "execution_count": 218,
     "metadata": {},
     "output_type": "execute_result"
    }
   ],
   "source": [
    "# remove commas and convert to integer\n",
    "df['votes'] = df['votes'].str.replace(',', '')\n",
    "\n",
    "# changes the datatype to integer\n",
    "df['votes'] = df['votes'].astype('Int64')\n",
    "\n",
    "\n",
    "# to check if it worked\n",
    "df['votes'].dtype"
   ]
  },
  {
   "cell_type": "markdown",
   "id": "6ba6a4f3",
   "metadata": {},
   "source": [
    "Let me check the presence of null values  "
   ]
  },
  {
   "cell_type": "code",
   "execution_count": 219,
   "id": "bd75a48f",
   "metadata": {},
   "outputs": [
    {
     "data": {
      "text/plain": [
       "1002"
      ]
     },
     "execution_count": 219,
     "metadata": {},
     "output_type": "execute_result"
    }
   ],
   "source": [
    "df['votes'].isna().sum()"
   ]
  },
  {
   "cell_type": "markdown",
   "id": "46b3a560",
   "metadata": {},
   "source": [
    "To handle this, We would be filling the column with zeros. Reason because these are individual votes and it is very possible that some individuals did not want to vote for the movies"
   ]
  },
  {
   "cell_type": "code",
   "execution_count": 220,
   "id": "06b3f88a",
   "metadata": {},
   "outputs": [
    {
     "data": {
      "text/plain": [
       "0"
      ]
     },
     "execution_count": 220,
     "metadata": {},
     "output_type": "execute_result"
    }
   ],
   "source": [
    "# Replace null values with zero\n",
    "df['votes'].fillna(0, inplace=True)\n",
    "\n",
    "# to check if it worked\n",
    "df['votes'].isna().sum()"
   ]
  },
  {
   "cell_type": "markdown",
   "id": "5ee8c571",
   "metadata": {},
   "source": [
    "We would not be checking for outliers in this column because it is very possible some teams didnt get a vote from people and the most loved team could get really high number of votes. So with that been said...\n",
    "\n",
    "**The `votes` column is clean**"
   ]
  },
  {
   "cell_type": "markdown",
   "id": "bfe3d5a0",
   "metadata": {},
   "source": [
    "### Cleaning Task 7: Clean the runtime column\n",
    "\n",
    "First let us check the distribution of the runtime column"
   ]
  },
  {
   "cell_type": "code",
   "execution_count": 221,
   "id": "1e24c24e",
   "metadata": {},
   "outputs": [
    {
     "data": {
      "image/png": "[encoded data removed]",
      "text/plain": [
       "<Figure size 640x480 with 1 Axes>"
      ]
     },
     "metadata": {},
     "output_type": "display_data"
    }
   ],
   "source": [
    "# Plot the distribution of the rating column\n",
    "plt.hist(df['runtime'], bins=20, color='skyblue', edgecolor='black')\n",
    "plt.xlabel('Runtime')  # Corrected: Use plt.xlabel instead of plt.set_xlabel\n",
    "plt.ylabel('Frequency')  # Corrected: Use plt.ylabel instead of plt.set_ylabel\n",
    "plt.title('Histogram showing Distribution of movie runtime')  # Corrected: Use plt.title instead of plt.set_title\n",
    "\n",
    "# Display the histogram\n",
    "plt.show()"
   ]
  },
  {
   "cell_type": "markdown",
   "id": "55140111",
   "metadata": {},
   "source": [
    "Let us check the descriptive statistics of the `runtime` column"
   ]
  },
  {
   "cell_type": "code",
   "execution_count": 222,
   "id": "ebe83ded",
   "metadata": {},
   "outputs": [
    {
     "data": {
      "text/plain": [
       "count    5305.000000\n",
       "mean       78.499529\n",
       "std        49.608718\n",
       "min         1.000000\n",
       "25%        45.000000\n",
       "50%        82.000000\n",
       "75%       100.000000\n",
       "max       853.000000\n",
       "Name: runtime, dtype: float64"
      ]
     },
     "execution_count": 222,
     "metadata": {},
     "output_type": "execute_result"
    }
   ],
   "source": [
    "# to check the descriptive statistics of the column\n",
    "df['runtime'].describe()"
   ]
  },
  {
   "cell_type": "markdown",
   "id": "3b1897b5",
   "metadata": {},
   "source": [
    "We would like to observe the runtime using a boxplot"
   ]
  },
  {
   "cell_type": "code",
   "execution_count": 223,
   "id": "76e63530",
   "metadata": {},
   "outputs": [
    {
     "data": {
      "image/png": "[encoded data removed]",
      "text/plain": [
       "<Figure size 640x480 with 1 Axes>"
      ]
     },
     "metadata": {},
     "output_type": "display_data"
    }
   ],
   "source": [
    "#to check using the box plot \n",
    "sns.boxplot(data=df, y='runtime')\n",
    "plt.ylabel('Runtime')\n",
    "plt.title('Box Plot of Runtime')\n",
    "plt.grid(False)\n",
    "plt.show()"
   ]
  },
  {
   "cell_type": "markdown",
   "id": "ef069683",
   "metadata": {},
   "source": [
    "From the boxplot above, it is saying that values above 200 minutes are outliers. \n",
    "\n",
    "According to [Nashville Film Institute](https://www.nfi.edu/how-long-does-it-take-to-make-a-movie/#:~:text=To%20throw%20a%20brief%20answer,or%20the%20production%20of%20music.), as stated below\n",
    "\n",
    "> *To throw a brief answer (in case you're in a hurry), the average length of a feature film is around **120 minutes**. This figure is typically taken for an introductory film, and it excludes time spent on special effects or the production of music.*\n",
    "\n",
    "\n",
    "This would be used to clean my column. From more research, the ideal range for a movie should be minimum of 90 minutes to 120 minutes. I would be working 120 minutes for my analysis"
   ]
  },
  {
   "cell_type": "code",
   "execution_count": 224,
   "id": "1b2fe401",
   "metadata": {},
   "outputs": [
    {
     "data": {
      "text/plain": [
       "count    5305.000000\n",
       "mean      124.744958\n",
       "std        30.814080\n",
       "min       120.000000\n",
       "25%       120.000000\n",
       "50%       120.000000\n",
       "75%       120.000000\n",
       "max       853.000000\n",
       "Name: runtime, dtype: float64"
      ]
     },
     "execution_count": 224,
     "metadata": {},
     "output_type": "execute_result"
    }
   ],
   "source": [
    "# to get out upper and lower limit\n",
    "limit = 120\n",
    "\n",
    "# to replace the outliers\n",
    "df['runtime'] = np.where(df['runtime'] < limit,\n",
    "   limit, df['runtime'])\n",
    "\n",
    "\n",
    "# to check if it worked\n",
    "df['runtime'].describe()"
   ]
  },
  {
   "cell_type": "markdown",
   "id": "0cdb63e1",
   "metadata": {},
   "source": [
    "For the upper limit, there is clearly something up with over 800 minutes for a movie which is over 13 hours, This is incredibly much, therefore considered as an outlier. We cant put a maximum allowable value for movie runtime but we are going to cap our ratings column by using upper limit as **\"mean plus Five standard deviations\"**\n",
    "\n",
    "This idea was referenced from [Career Foundry](https://careerfoundry.com/en/blog/data-analytics/how-to-find-outliers/#:~:text=After%20checking%20the%20data%20and,not%20the%20dataset%20has%20outliers.)"
   ]
  },
  {
   "cell_type": "code",
   "execution_count": 225,
   "id": "5c9a7dbd",
   "metadata": {},
   "outputs": [
    {
     "name": "stdout",
     "output_type": "stream",
     "text": [
      "278.8153577157407\n"
     ]
    }
   ],
   "source": [
    "upper_limit = df['runtime'].mean() + 5*df['runtime'].std()\n",
    "\n",
    "print(upper_limit)"
   ]
  },
  {
   "cell_type": "code",
   "execution_count": 226,
   "id": "16349d97",
   "metadata": {},
   "outputs": [],
   "source": [
    "# to replace the upper outliers with the upper limit\n",
    "df['runtime'] = np.where(df['runtime'] > upper_limit, upper_limit, df['runtime'])"
   ]
  },
  {
   "cell_type": "markdown",
   "id": "7f33313c",
   "metadata": {},
   "source": [
    "To check its descriptive statistics"
   ]
  },
  {
   "cell_type": "code",
   "execution_count": 227,
   "id": "1d1e6575",
   "metadata": {},
   "outputs": [
    {
     "data": {
      "text/plain": [
       "count    5305.000000\n",
       "mean      123.646635\n",
       "std        19.252519\n",
       "min       120.000000\n",
       "25%       120.000000\n",
       "50%       120.000000\n",
       "75%       120.000000\n",
       "max       278.815358\n",
       "Name: runtime, dtype: float64"
      ]
     },
     "execution_count": 227,
     "metadata": {},
     "output_type": "execute_result"
    }
   ],
   "source": [
    "df['runtime'].describe()"
   ]
  },
  {
   "cell_type": "markdown",
   "id": "dc046484",
   "metadata": {},
   "source": [
    "Next step is to check if there are null values in the column"
   ]
  },
  {
   "cell_type": "code",
   "execution_count": 228,
   "id": "790e74a4",
   "metadata": {},
   "outputs": [
    {
     "data": {
      "text/plain": [
       "1512"
      ]
     },
     "execution_count": 228,
     "metadata": {},
     "output_type": "execute_result"
    }
   ],
   "source": [
    "df['runtime'].isna().sum()"
   ]
  },
  {
   "cell_type": "markdown",
   "id": "4505a97b",
   "metadata": {},
   "source": [
    "We would be replacing the null values with the mean"
   ]
  },
  {
   "cell_type": "code",
   "execution_count": 229,
   "id": "d63f5cd2",
   "metadata": {},
   "outputs": [
    {
     "data": {
      "text/plain": [
       "0"
      ]
     },
     "execution_count": 229,
     "metadata": {},
     "output_type": "execute_result"
    }
   ],
   "source": [
    "# Calculate the mean of the column\n",
    "mean_value = round(df['runtime'].mean())\n",
    "\n",
    "# Replace null values with the mean\n",
    "df['runtime'].fillna(mean_value, inplace=True)\n",
    "\n",
    "\n",
    "# to check if it worked\n",
    "df['runtime'].isna().sum()"
   ]
  },
  {
   "cell_type": "markdown",
   "id": "39e0f20f",
   "metadata": {},
   "source": [
    "**Cleaning Task 7 done!!**"
   ]
  },
  {
   "cell_type": "markdown",
   "id": "4b8a1bc2",
   "metadata": {},
   "source": [
    "### Cleaning Task 8: Clean the gross column\n",
    "\n",
    "Before attempting to clean the column, let us check the kind of values present in the column"
   ]
  },
  {
   "cell_type": "code",
   "execution_count": 230,
   "id": "1903a521",
   "metadata": {},
   "outputs": [
    {
     "data": {
      "text/plain": [
       "Index(['$0.01M', '$0.02M', '$0.00M', '$0.03M', '$0.04M', '$0.08M', '$0.05M',\n",
       "       '$0.10M', '$0.15M', '$0.09M',\n",
       "       ...\n",
       "       '$181.17M', '$77.22M', '$18.34M', '$97.10M', '$486.30M', '$37.77M',\n",
       "       '$44.82M', '$21.36M', '$54.76M', '$10.40M'],\n",
       "      dtype='object', length=328)"
      ]
     },
     "execution_count": 230,
     "metadata": {},
     "output_type": "execute_result"
    }
   ],
   "source": [
    "df.gross.value_counts().index"
   ]
  },
  {
   "cell_type": "markdown",
   "id": "1a1e5713",
   "metadata": {},
   "source": [
    "To remove the '$' and the 'M' and convert to millions"
   ]
  },
  {
   "cell_type": "code",
   "execution_count": 231,
   "id": "ce5f46d7",
   "metadata": {},
   "outputs": [
    {
     "data": {
      "text/plain": [
       "Float64Index([    10000.0,     20000.0,         0.0,     30000.0,     40000.0,\n",
       "                  80000.0,     50000.0,    100000.0,    150000.0,     90000.0,\n",
       "              ...\n",
       "              181170000.0,  77220000.0,  18340000.0,  97100000.0, 486300000.0,\n",
       "               37770000.0,  44820000.0,  21360000.0,  54760000.0,  10400000.0],\n",
       "             dtype='float64', length=328)"
      ]
     },
     "execution_count": 231,
     "metadata": {},
     "output_type": "execute_result"
    }
   ],
   "source": [
    "# remove '$' and 'M', and convert to million\n",
    "df['gross'] = df['gross'].str.replace('$', '', regex=True)\\\n",
    "                        .str.replace('M', '', regex=True)\\\n",
    "                        .astype(float)\\\n",
    "                        .mul(1e6)\n",
    "\n",
    "# to check if the changes were made\n",
    "df.gross.value_counts().index"
   ]
  },
  {
   "cell_type": "markdown",
   "id": "00fdd6f1",
   "metadata": {},
   "source": [
    "To check if there are null values in the gross column"
   ]
  },
  {
   "cell_type": "code",
   "execution_count": 232,
   "id": "80ff14b2",
   "metadata": {},
   "outputs": [
    {
     "data": {
      "text/plain": [
       "6365"
      ]
     },
     "execution_count": 232,
     "metadata": {},
     "output_type": "execute_result"
    }
   ],
   "source": [
    "df['gross'].isna().sum()"
   ]
  },
  {
   "cell_type": "markdown",
   "id": "f112cd13",
   "metadata": {},
   "source": [
    "To handle this null values, I would replace them with zero"
   ]
  },
  {
   "cell_type": "code",
   "execution_count": 233,
   "id": "2e268fae",
   "metadata": {},
   "outputs": [
    {
     "data": {
      "text/plain": [
       "0"
      ]
     },
     "execution_count": 233,
     "metadata": {},
     "output_type": "execute_result"
    }
   ],
   "source": [
    "# Replace null values with zero\n",
    "df['gross'].fillna(0, inplace=True)\n",
    "\n",
    "# to check if it worked\n",
    "df['gross'].isna().sum()"
   ]
  },
  {
   "cell_type": "markdown",
   "id": "5e3ff7c8",
   "metadata": {},
   "source": [
    "**Cleaning Task 8 Done!!**"
   ]
  },
  {
   "cell_type": "markdown",
   "id": "0859479c",
   "metadata": {},
   "source": [
    "**Hurray!!** The dataset is now clean. Guess who saved the enchanted world. **WE DID!** \n",
    "\n",
    "**WE ARE THE DATA WIZARDS!!**"
   ]
  },
  {
   "cell_type": "markdown",
   "id": "f52bb6e0",
   "metadata": {},
   "source": [
    "<img src = \"downloader.jpg\" height=\"300px\" width=\"700px\" />"
   ]
  },
  {
   "cell_type": "markdown",
   "id": "2b594570",
   "metadata": {},
   "source": [
    "FInally to export the cleaned dataset"
   ]
  },
  {
   "cell_type": "code",
   "execution_count": 234,
   "id": "4480415c",
   "metadata": {},
   "outputs": [],
   "source": [
    "# export the data to csv file\n",
    "df.to_csv('movies_team13_cleaned.csv', index=False)"
   ]
  }
 ],
 "metadata": {
  "kernelspec": {
   "display_name": "Python 3 (ipykernel)",
   "language": "python",
   "name": "python3"
  },
  "language_info": {
   "codemirror_mode": {
    "name": "ipython",
    "version": 3
   },
   "file_extension": ".py",
   "mimetype": "text/x-python",
   "name": "python",
   "nbconvert_exporter": "python",
   "pygments_lexer": "ipython3",
   "version": "3.11.2"
  }
 },
 "nbformat": 4,
 "nbformat_minor": 5
}
